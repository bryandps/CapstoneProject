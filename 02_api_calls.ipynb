{
 "cells": [
  {
   "cell_type": "markdown",
   "metadata": {},
   "source": [
    "# What's that Doggy in the Window?\n",
    "## Data Gathering - API Calls"
   ]
  },
  {
   "cell_type": "markdown",
   "metadata": {},
   "source": [
    "By: **Bryan Santos**"
   ]
  },
  {
   "cell_type": "markdown",
   "metadata": {},
   "source": [
    "Have you ever wanted to know the breed of dogs you see in social media or with other people because you like how they look, whether tough or cute?\n",
    "\n",
    "This project aims to build an application that lets users upload images of a dog and to get its breed. The application will then assess the breed characteristics if it is suitable for the user based on lifestyle. If it is, then the system will redirect the user to dogs of that particular breed that is up for adoption. If not compatible, then the the system will suggest top five most compatible breeds.\n",
    "\n",
    "The project will utilize multi-class image classification and recommendation systems machine learning models to achieve its goals.\n",
    "\n",
    "The pet industry is a multi-billion dollar industry even just in the United States alone. The trend of owning pets is on a steady rise. Unfortunately, so do the number of dogs that would be without a permanent home or that would be euthanized. Many people buy dogs because of fad or appearances and abandon them, most likely because they do not realize that dogs of different breeds have unique characteristics and may not necessarily match their lifestyles.\n",
    "\n",
    "***"
   ]
  },
  {
   "cell_type": "markdown",
   "metadata": {},
   "source": [
    "This is the second notebook in the series. Our project will not work without dog breed images to train our classification models on so this part focuses on getting our dataset, which in this case are thousands of dog breed images.\n",
    "\n",
    "I will be getting my dataset from two sources. The first one is www.dog.ceo, a site that provides users with API endpoints in order to get all of the dog breed images. The second one is the dataset from Udacity stores in AWS."
   ]
  },
  {
   "cell_type": "markdown",
   "metadata": {},
   "source": [
    "## 1: Package Imports"
   ]
  },
  {
   "cell_type": "markdown",
   "metadata": {},
   "source": [
    "Below are the libraries used to process API calls and responses, usually in JSON format. Selenium will again be used to process the www.dog.ceo site."
   ]
  },
  {
   "cell_type": "code",
   "execution_count": 28,
   "metadata": {},
   "outputs": [],
   "source": [
    "import pandas as pd\n",
    "import numpy as np\n",
    "import json\n",
    "import requests\n",
    "from requests import get\n",
    "import urllib.request as req\n",
    "from selenium import webdriver\n",
    "from selenium.webdriver.chrome.options import Options\n",
    "import os, sys, random, string\n",
    "from os import path\n",
    "\n",
    "import tqdm\n",
    "import shutil\n",
    "import random"
   ]
  },
  {
   "cell_type": "code",
   "execution_count": 29,
   "metadata": {},
   "outputs": [],
   "source": [
    "%%capture\n",
    "\n",
    "from tqdm import tqdm_notebook as tqdm\n",
    "from tqdm import tnrange\n",
    "tqdm().pandas()"
   ]
  },
  {
   "cell_type": "markdown",
   "metadata": {},
   "source": [
    "***"
   ]
  },
  {
   "cell_type": "markdown",
   "metadata": {},
   "source": [
    "## 2: Getting Images www.dog.ceo"
   ]
  },
  {
   "cell_type": "markdown",
   "metadata": {},
   "source": [
    "This is part 1 of this notebook. This is where we will download all images stores in www.dog.ceo through API calls."
   ]
  },
  {
   "cell_type": "markdown",
   "metadata": {},
   "source": [
    "### Initial Setup"
   ]
  },
  {
   "cell_type": "code",
   "execution_count": 4,
   "metadata": {},
   "outputs": [],
   "source": [
    "### Initial selenium and beautiful setup to get the breed list\n",
    "url = 'https://dog.ceo/dog-api/breeds-list'\n",
    "options = Options()\n",
    "options.add_argument('--headless')\n",
    "options.add_argument('--disable-gpu')\n",
    "driver = webdriver.Chrome(options=options)\n",
    "driver.get(url)\n",
    "page = driver.page_source\n",
    "driver.quit()\n",
    "soup = BeautifulSoup(page, 'html.parser')"
   ]
  },
  {
   "cell_type": "code",
   "execution_count": 5,
   "metadata": {},
   "outputs": [],
   "source": [
    "### Collect all breeds that they have\n",
    "breed_list = []\n",
    "select = soup.find('select', {'class': 'dog-selector'})\n",
    "options = select.findAll('option')\n",
    "for option in options:\n",
    "    breed = option.get_attribute_list('value')\n",
    "    breed_list.append(breed)"
   ]
  },
  {
   "cell_type": "code",
   "execution_count": 6,
   "metadata": {},
   "outputs": [
    {
     "data": {
      "text/plain": [
       "[['affenpinscher'],\n",
       " ['african'],\n",
       " ['airedale'],\n",
       " ['akita'],\n",
       " ['appenzeller'],\n",
       " ['australian-shepherd'],\n",
       " ['basenji'],\n",
       " ['beagle'],\n",
       " ['bluetick'],\n",
       " ['borzoi'],\n",
       " ['bouvier'],\n",
       " ['boxer'],\n",
       " ['brabancon'],\n",
       " ['briard'],\n",
       " ['buhund-norwegian'],\n",
       " ['bulldog-boston'],\n",
       " ['bulldog-english'],\n",
       " ['bulldog-french'],\n",
       " ['bullterrier-staffordshire'],\n",
       " ['cairn'],\n",
       " ['cattledog-australian'],\n",
       " ['chihuahua'],\n",
       " ['chow'],\n",
       " ['clumber'],\n",
       " ['cockapoo'],\n",
       " ['collie-border'],\n",
       " ['coonhound'],\n",
       " ['corgi-cardigan'],\n",
       " ['cotondetulear'],\n",
       " ['dachshund'],\n",
       " ['dalmatian'],\n",
       " ['dane-great'],\n",
       " ['deerhound-scottish'],\n",
       " ['dhole'],\n",
       " ['dingo'],\n",
       " ['doberman'],\n",
       " ['elkhound-norwegian'],\n",
       " ['entlebucher'],\n",
       " ['eskimo'],\n",
       " ['finnish-lapphund'],\n",
       " ['frise-bichon'],\n",
       " ['germanshepherd'],\n",
       " ['greyhound-italian'],\n",
       " ['groenendael'],\n",
       " ['havanese'],\n",
       " ['hound-afghan'],\n",
       " ['hound-basset'],\n",
       " ['hound-blood'],\n",
       " ['hound-english'],\n",
       " ['hound-ibizan'],\n",
       " ['hound-plott'],\n",
       " ['hound-walker'],\n",
       " ['husky'],\n",
       " ['keeshond'],\n",
       " ['kelpie'],\n",
       " ['komondor'],\n",
       " ['kuvasz'],\n",
       " ['labrador'],\n",
       " ['leonberg'],\n",
       " ['lhasa'],\n",
       " ['malamute'],\n",
       " ['malinois'],\n",
       " ['maltese'],\n",
       " ['mastiff-bull'],\n",
       " ['mastiff-english'],\n",
       " ['mastiff-tibetan'],\n",
       " ['mexicanhairless'],\n",
       " ['mix'],\n",
       " ['mountain-bernese'],\n",
       " ['mountain-swiss'],\n",
       " ['newfoundland'],\n",
       " ['otterhound'],\n",
       " ['ovcharka-caucasian'],\n",
       " ['papillon'],\n",
       " ['pekinese'],\n",
       " ['pembroke'],\n",
       " ['pinscher-miniature'],\n",
       " ['pitbull'],\n",
       " ['pointer-german'],\n",
       " ['pointer-germanlonghair'],\n",
       " ['pomeranian'],\n",
       " ['poodle-miniature'],\n",
       " ['poodle-standard'],\n",
       " ['poodle-toy'],\n",
       " ['pug'],\n",
       " ['puggle'],\n",
       " ['pyrenees'],\n",
       " ['redbone'],\n",
       " ['retriever-chesapeake'],\n",
       " ['retriever-curly'],\n",
       " ['retriever-flatcoated'],\n",
       " ['retriever-golden'],\n",
       " ['ridgeback-rhodesian'],\n",
       " ['rottweiler'],\n",
       " ['saluki'],\n",
       " ['samoyed'],\n",
       " ['schipperke'],\n",
       " ['schnauzer-giant'],\n",
       " ['schnauzer-miniature'],\n",
       " ['setter-english'],\n",
       " ['setter-gordon'],\n",
       " ['setter-irish'],\n",
       " ['sheepdog-english'],\n",
       " ['sheepdog-shetland'],\n",
       " ['shiba'],\n",
       " ['shihtzu'],\n",
       " ['spaniel-blenheim'],\n",
       " ['spaniel-brittany'],\n",
       " ['spaniel-cocker'],\n",
       " ['spaniel-irish'],\n",
       " ['spaniel-japanese'],\n",
       " ['spaniel-sussex'],\n",
       " ['spaniel-welsh'],\n",
       " ['springer-english'],\n",
       " ['stbernard'],\n",
       " ['terrier-american'],\n",
       " ['terrier-australian'],\n",
       " ['terrier-bedlington'],\n",
       " ['terrier-border'],\n",
       " ['terrier-dandie'],\n",
       " ['terrier-fox'],\n",
       " ['terrier-irish'],\n",
       " ['terrier-kerryblue'],\n",
       " ['terrier-lakeland'],\n",
       " ['terrier-norfolk'],\n",
       " ['terrier-norwich'],\n",
       " ['terrier-patterdale'],\n",
       " ['terrier-russell'],\n",
       " ['terrier-scottish'],\n",
       " ['terrier-sealyham'],\n",
       " ['terrier-silky'],\n",
       " ['terrier-tibetan'],\n",
       " ['terrier-toy'],\n",
       " ['terrier-westhighland'],\n",
       " ['terrier-wheaten'],\n",
       " ['terrier-yorkshire'],\n",
       " ['vizsla'],\n",
       " ['waterdog-spanish'],\n",
       " ['weimaraner'],\n",
       " ['whippet'],\n",
       " ['wolfhound-irish']]"
      ]
     },
     "execution_count": 6,
     "metadata": {},
     "output_type": "execute_result"
    }
   ],
   "source": [
    "### Validate list\n",
    "breed_list"
   ]
  },
  {
   "cell_type": "code",
   "execution_count": 20,
   "metadata": {},
   "outputs": [],
   "source": [
    "### Convert breed list into API endpoints\n",
    "link_list = []\n",
    "\n",
    "for item in breed_list:\n",
    "    link = 'https://dog.ceo/api/breed/' + item[0] + '/images'\n",
    "    link_list.append(link)\n"
   ]
  },
  {
   "cell_type": "code",
   "execution_count": 22,
   "metadata": {},
   "outputs": [],
   "source": [
    "### Clean the list\n",
    "for link in link_list:\n",
    "    link = link.replace(\"-\",\"/\")"
   ]
  },
  {
   "cell_type": "code",
   "execution_count": 23,
   "metadata": {},
   "outputs": [
    {
     "data": {
      "text/plain": [
       "['https://dog.ceo/api/breed/affenpinscher/images',\n",
       " 'https://dog.ceo/api/breed/african/images',\n",
       " 'https://dog.ceo/api/breed/airedale/images',\n",
       " 'https://dog.ceo/api/breed/akita/images',\n",
       " 'https://dog.ceo/api/breed/appenzeller/images',\n",
       " 'https://dog.ceo/api/breed/australian-shepherd/images',\n",
       " 'https://dog.ceo/api/breed/basenji/images',\n",
       " 'https://dog.ceo/api/breed/beagle/images',\n",
       " 'https://dog.ceo/api/breed/bluetick/images',\n",
       " 'https://dog.ceo/api/breed/borzoi/images',\n",
       " 'https://dog.ceo/api/breed/bouvier/images',\n",
       " 'https://dog.ceo/api/breed/boxer/images',\n",
       " 'https://dog.ceo/api/breed/brabancon/images',\n",
       " 'https://dog.ceo/api/breed/briard/images',\n",
       " 'https://dog.ceo/api/breed/buhund-norwegian/images',\n",
       " 'https://dog.ceo/api/breed/bulldog-boston/images',\n",
       " 'https://dog.ceo/api/breed/bulldog-english/images',\n",
       " 'https://dog.ceo/api/breed/bulldog-french/images',\n",
       " 'https://dog.ceo/api/breed/bullterrier-staffordshire/images',\n",
       " 'https://dog.ceo/api/breed/cairn/images',\n",
       " 'https://dog.ceo/api/breed/cattledog-australian/images',\n",
       " 'https://dog.ceo/api/breed/chihuahua/images',\n",
       " 'https://dog.ceo/api/breed/chow/images',\n",
       " 'https://dog.ceo/api/breed/clumber/images',\n",
       " 'https://dog.ceo/api/breed/cockapoo/images',\n",
       " 'https://dog.ceo/api/breed/collie-border/images',\n",
       " 'https://dog.ceo/api/breed/coonhound/images',\n",
       " 'https://dog.ceo/api/breed/corgi-cardigan/images',\n",
       " 'https://dog.ceo/api/breed/cotondetulear/images',\n",
       " 'https://dog.ceo/api/breed/dachshund/images',\n",
       " 'https://dog.ceo/api/breed/dalmatian/images',\n",
       " 'https://dog.ceo/api/breed/dane-great/images',\n",
       " 'https://dog.ceo/api/breed/deerhound-scottish/images',\n",
       " 'https://dog.ceo/api/breed/dhole/images',\n",
       " 'https://dog.ceo/api/breed/dingo/images',\n",
       " 'https://dog.ceo/api/breed/doberman/images',\n",
       " 'https://dog.ceo/api/breed/elkhound-norwegian/images',\n",
       " 'https://dog.ceo/api/breed/entlebucher/images',\n",
       " 'https://dog.ceo/api/breed/eskimo/images',\n",
       " 'https://dog.ceo/api/breed/finnish-lapphund/images',\n",
       " 'https://dog.ceo/api/breed/frise-bichon/images',\n",
       " 'https://dog.ceo/api/breed/germanshepherd/images',\n",
       " 'https://dog.ceo/api/breed/greyhound-italian/images',\n",
       " 'https://dog.ceo/api/breed/groenendael/images',\n",
       " 'https://dog.ceo/api/breed/havanese/images',\n",
       " 'https://dog.ceo/api/breed/hound-afghan/images',\n",
       " 'https://dog.ceo/api/breed/hound-basset/images',\n",
       " 'https://dog.ceo/api/breed/hound-blood/images',\n",
       " 'https://dog.ceo/api/breed/hound-english/images',\n",
       " 'https://dog.ceo/api/breed/hound-ibizan/images',\n",
       " 'https://dog.ceo/api/breed/hound-plott/images',\n",
       " 'https://dog.ceo/api/breed/hound-walker/images',\n",
       " 'https://dog.ceo/api/breed/husky/images',\n",
       " 'https://dog.ceo/api/breed/keeshond/images',\n",
       " 'https://dog.ceo/api/breed/kelpie/images',\n",
       " 'https://dog.ceo/api/breed/komondor/images',\n",
       " 'https://dog.ceo/api/breed/kuvasz/images',\n",
       " 'https://dog.ceo/api/breed/labrador/images',\n",
       " 'https://dog.ceo/api/breed/leonberg/images',\n",
       " 'https://dog.ceo/api/breed/lhasa/images',\n",
       " 'https://dog.ceo/api/breed/malamute/images',\n",
       " 'https://dog.ceo/api/breed/malinois/images',\n",
       " 'https://dog.ceo/api/breed/maltese/images',\n",
       " 'https://dog.ceo/api/breed/mastiff-bull/images',\n",
       " 'https://dog.ceo/api/breed/mastiff-english/images',\n",
       " 'https://dog.ceo/api/breed/mastiff-tibetan/images',\n",
       " 'https://dog.ceo/api/breed/mexicanhairless/images',\n",
       " 'https://dog.ceo/api/breed/mix/images',\n",
       " 'https://dog.ceo/api/breed/mountain-bernese/images',\n",
       " 'https://dog.ceo/api/breed/mountain-swiss/images',\n",
       " 'https://dog.ceo/api/breed/newfoundland/images',\n",
       " 'https://dog.ceo/api/breed/otterhound/images',\n",
       " 'https://dog.ceo/api/breed/ovcharka-caucasian/images',\n",
       " 'https://dog.ceo/api/breed/papillon/images',\n",
       " 'https://dog.ceo/api/breed/pekinese/images',\n",
       " 'https://dog.ceo/api/breed/pembroke/images',\n",
       " 'https://dog.ceo/api/breed/pinscher-miniature/images',\n",
       " 'https://dog.ceo/api/breed/pitbull/images',\n",
       " 'https://dog.ceo/api/breed/pointer-german/images',\n",
       " 'https://dog.ceo/api/breed/pointer-germanlonghair/images',\n",
       " 'https://dog.ceo/api/breed/pomeranian/images',\n",
       " 'https://dog.ceo/api/breed/poodle-miniature/images',\n",
       " 'https://dog.ceo/api/breed/poodle-standard/images',\n",
       " 'https://dog.ceo/api/breed/poodle-toy/images',\n",
       " 'https://dog.ceo/api/breed/pug/images',\n",
       " 'https://dog.ceo/api/breed/puggle/images',\n",
       " 'https://dog.ceo/api/breed/pyrenees/images',\n",
       " 'https://dog.ceo/api/breed/redbone/images',\n",
       " 'https://dog.ceo/api/breed/retriever-chesapeake/images',\n",
       " 'https://dog.ceo/api/breed/retriever-curly/images',\n",
       " 'https://dog.ceo/api/breed/retriever-flatcoated/images',\n",
       " 'https://dog.ceo/api/breed/retriever-golden/images',\n",
       " 'https://dog.ceo/api/breed/ridgeback-rhodesian/images',\n",
       " 'https://dog.ceo/api/breed/rottweiler/images',\n",
       " 'https://dog.ceo/api/breed/saluki/images',\n",
       " 'https://dog.ceo/api/breed/samoyed/images',\n",
       " 'https://dog.ceo/api/breed/schipperke/images',\n",
       " 'https://dog.ceo/api/breed/schnauzer-giant/images',\n",
       " 'https://dog.ceo/api/breed/schnauzer-miniature/images',\n",
       " 'https://dog.ceo/api/breed/setter-english/images',\n",
       " 'https://dog.ceo/api/breed/setter-gordon/images',\n",
       " 'https://dog.ceo/api/breed/setter-irish/images',\n",
       " 'https://dog.ceo/api/breed/sheepdog-english/images',\n",
       " 'https://dog.ceo/api/breed/sheepdog-shetland/images',\n",
       " 'https://dog.ceo/api/breed/shiba/images',\n",
       " 'https://dog.ceo/api/breed/shihtzu/images',\n",
       " 'https://dog.ceo/api/breed/spaniel-blenheim/images',\n",
       " 'https://dog.ceo/api/breed/spaniel-brittany/images',\n",
       " 'https://dog.ceo/api/breed/spaniel-cocker/images',\n",
       " 'https://dog.ceo/api/breed/spaniel-irish/images',\n",
       " 'https://dog.ceo/api/breed/spaniel-japanese/images',\n",
       " 'https://dog.ceo/api/breed/spaniel-sussex/images',\n",
       " 'https://dog.ceo/api/breed/spaniel-welsh/images',\n",
       " 'https://dog.ceo/api/breed/springer-english/images',\n",
       " 'https://dog.ceo/api/breed/stbernard/images',\n",
       " 'https://dog.ceo/api/breed/terrier-american/images',\n",
       " 'https://dog.ceo/api/breed/terrier-australian/images',\n",
       " 'https://dog.ceo/api/breed/terrier-bedlington/images',\n",
       " 'https://dog.ceo/api/breed/terrier-border/images',\n",
       " 'https://dog.ceo/api/breed/terrier-dandie/images',\n",
       " 'https://dog.ceo/api/breed/terrier-fox/images',\n",
       " 'https://dog.ceo/api/breed/terrier-irish/images',\n",
       " 'https://dog.ceo/api/breed/terrier-kerryblue/images',\n",
       " 'https://dog.ceo/api/breed/terrier-lakeland/images',\n",
       " 'https://dog.ceo/api/breed/terrier-norfolk/images',\n",
       " 'https://dog.ceo/api/breed/terrier-norwich/images',\n",
       " 'https://dog.ceo/api/breed/terrier-patterdale/images',\n",
       " 'https://dog.ceo/api/breed/terrier-russell/images',\n",
       " 'https://dog.ceo/api/breed/terrier-scottish/images',\n",
       " 'https://dog.ceo/api/breed/terrier-sealyham/images',\n",
       " 'https://dog.ceo/api/breed/terrier-silky/images',\n",
       " 'https://dog.ceo/api/breed/terrier-tibetan/images',\n",
       " 'https://dog.ceo/api/breed/terrier-toy/images',\n",
       " 'https://dog.ceo/api/breed/terrier-westhighland/images',\n",
       " 'https://dog.ceo/api/breed/terrier-wheaten/images',\n",
       " 'https://dog.ceo/api/breed/terrier-yorkshire/images',\n",
       " 'https://dog.ceo/api/breed/vizsla/images',\n",
       " 'https://dog.ceo/api/breed/waterdog-spanish/images',\n",
       " 'https://dog.ceo/api/breed/weimaraner/images',\n",
       " 'https://dog.ceo/api/breed/whippet/images',\n",
       " 'https://dog.ceo/api/breed/wolfhound-irish/images']"
      ]
     },
     "execution_count": 23,
     "metadata": {},
     "output_type": "execute_result"
    }
   ],
   "source": [
    "link_list"
   ]
  },
  {
   "cell_type": "code",
   "execution_count": 24,
   "metadata": {},
   "outputs": [],
   "source": [
    "### Clean the list\n",
    "link_list = [link.replace('-', '/') for link in link_list]"
   ]
  },
  {
   "cell_type": "code",
   "execution_count": 26,
   "metadata": {},
   "outputs": [],
   "source": [
    "### Prepare final breed list\n",
    "breed_list = [link.replace('https://dog.ceo/api/breed/', '') for link in link_list]\n",
    "breed_list = [link.replace('/images', '') for link in breed_list]\n",
    "breed_list = [link.replace('/', '-') for link in breed_list]"
   ]
  },
  {
   "cell_type": "code",
   "execution_count": 27,
   "metadata": {},
   "outputs": [
    {
     "data": {
      "text/plain": [
       "['affenpinscher', 'african', 'airedale', 'akita', 'appenzeller']"
      ]
     },
     "execution_count": 27,
     "metadata": {},
     "output_type": "execute_result"
    }
   ],
   "source": [
    "breed_list[:5]"
   ]
  },
  {
   "cell_type": "markdown",
   "metadata": {},
   "source": [
    "### API Calls"
   ]
  },
  {
   "cell_type": "markdown",
   "metadata": {},
   "source": [
    "Main API calls to download images."
   ]
  },
  {
   "cell_type": "code",
   "execution_count": 97,
   "metadata": {},
   "outputs": [
    {
     "data": {
      "application/vnd.jupyter.widget-view+json": {
       "model_id": "10812c5b21c6438c8693f20efffe62d5",
       "version_major": 2,
       "version_minor": 0
      },
      "text/plain": [
       "HBox(children=(IntProgress(value=0, max=141), HTML(value='')))"
      ]
     },
     "metadata": {},
     "output_type": "display_data"
    },
    {
     "name": "stdout",
     "output_type": "stream",
     "text": [
      "[1] Getting images from https://dog.ceo/api/breed/affenpinscher/images\n",
      "[2] Getting images from https://dog.ceo/api/breed/african/images\n",
      "[3] Getting images from https://dog.ceo/api/breed/airedale/images\n",
      "[4] Getting images from https://dog.ceo/api/breed/akita/images\n",
      "[5] Getting images from https://dog.ceo/api/breed/appenzeller/images\n",
      "[6] Getting images from https://dog.ceo/api/breed/australian/shepherd/images\n",
      "[7] Getting images from https://dog.ceo/api/breed/basenji/images\n",
      "[8] Getting images from https://dog.ceo/api/breed/beagle/images\n",
      "[9] Getting images from https://dog.ceo/api/breed/bluetick/images\n",
      "[10] Getting images from https://dog.ceo/api/breed/borzoi/images\n",
      "[11] Getting images from https://dog.ceo/api/breed/bouvier/images\n",
      "[12] Getting images from https://dog.ceo/api/breed/boxer/images\n",
      "[13] Getting images from https://dog.ceo/api/breed/brabancon/images\n",
      "[14] Getting images from https://dog.ceo/api/breed/briard/images\n",
      "[15] Getting images from https://dog.ceo/api/breed/buhund/norwegian/images\n",
      "[16] Getting images from https://dog.ceo/api/breed/bulldog/boston/images\n",
      "[17] Getting images from https://dog.ceo/api/breed/bulldog/english/images\n",
      "[18] Getting images from https://dog.ceo/api/breed/bulldog/french/images\n",
      "[19] Getting images from https://dog.ceo/api/breed/bullterrier/staffordshire/images\n",
      "[20] Getting images from https://dog.ceo/api/breed/cairn/images\n",
      "[21] Getting images from https://dog.ceo/api/breed/cattledog/australian/images\n",
      "[22] Getting images from https://dog.ceo/api/breed/chihuahua/images\n",
      "[23] Getting images from https://dog.ceo/api/breed/chow/images\n",
      "[24] Getting images from https://dog.ceo/api/breed/clumber/images\n",
      "[25] Getting images from https://dog.ceo/api/breed/cockapoo/images\n",
      "[26] Getting images from https://dog.ceo/api/breed/collie/border/images\n",
      "[27] Getting images from https://dog.ceo/api/breed/coonhound/images\n",
      "[28] Getting images from https://dog.ceo/api/breed/corgi/cardigan/images\n",
      "[29] Getting images from https://dog.ceo/api/breed/cotondetulear/images\n",
      "[30] Getting images from https://dog.ceo/api/breed/dachshund/images\n",
      "[31] Getting images from https://dog.ceo/api/breed/dalmatian/images\n",
      "[32] Getting images from https://dog.ceo/api/breed/dane/great/images\n",
      "[33] Getting images from https://dog.ceo/api/breed/deerhound/scottish/images\n",
      "[34] Getting images from https://dog.ceo/api/breed/dhole/images\n",
      "[35] Getting images from https://dog.ceo/api/breed/dingo/images\n",
      "[36] Getting images from https://dog.ceo/api/breed/doberman/images\n",
      "[37] Getting images from https://dog.ceo/api/breed/elkhound/norwegian/images\n",
      "[38] Getting images from https://dog.ceo/api/breed/entlebucher/images\n",
      "[39] Getting images from https://dog.ceo/api/breed/eskimo/images\n",
      "[40] Getting images from https://dog.ceo/api/breed/finnish/lapphund/images\n",
      "[41] Getting images from https://dog.ceo/api/breed/frise/bichon/images\n",
      "[42] Getting images from https://dog.ceo/api/breed/germanshepherd/images\n",
      "[43] Getting images from https://dog.ceo/api/breed/greyhound/italian/images\n",
      "[44] Getting images from https://dog.ceo/api/breed/groenendael/images\n",
      "[45] Getting images from https://dog.ceo/api/breed/havanese/images\n",
      "[46] Getting images from https://dog.ceo/api/breed/hound/afghan/images\n",
      "[47] Getting images from https://dog.ceo/api/breed/hound/basset/images\n",
      "[48] Getting images from https://dog.ceo/api/breed/hound/blood/images\n",
      "[49] Getting images from https://dog.ceo/api/breed/hound/english/images\n",
      "[50] Getting images from https://dog.ceo/api/breed/hound/ibizan/images\n",
      "[51] Getting images from https://dog.ceo/api/breed/hound/plott/images\n",
      "[52] Getting images from https://dog.ceo/api/breed/hound/walker/images\n",
      "[53] Getting images from https://dog.ceo/api/breed/husky/images\n",
      "[54] Getting images from https://dog.ceo/api/breed/keeshond/images\n",
      "[55] Getting images from https://dog.ceo/api/breed/kelpie/images\n",
      "[56] Getting images from https://dog.ceo/api/breed/komondor/images\n",
      "[57] Getting images from https://dog.ceo/api/breed/kuvasz/images\n",
      "[58] Getting images from https://dog.ceo/api/breed/labrador/images\n",
      "[59] Getting images from https://dog.ceo/api/breed/leonberg/images\n",
      "[60] Getting images from https://dog.ceo/api/breed/lhasa/images\n",
      "[61] Getting images from https://dog.ceo/api/breed/malamute/images\n",
      "[62] Getting images from https://dog.ceo/api/breed/malinois/images\n",
      "[63] Getting images from https://dog.ceo/api/breed/maltese/images\n",
      "[64] Getting images from https://dog.ceo/api/breed/mastiff/bull/images\n",
      "[65] Getting images from https://dog.ceo/api/breed/mastiff/english/images\n",
      "[66] Getting images from https://dog.ceo/api/breed/mastiff/tibetan/images\n",
      "[67] Getting images from https://dog.ceo/api/breed/mexicanhairless/images\n",
      "[68] Getting images from https://dog.ceo/api/breed/mix/images\n",
      "[69] Getting images from https://dog.ceo/api/breed/mountain/bernese/images\n",
      "[70] Getting images from https://dog.ceo/api/breed/mountain/swiss/images\n",
      "[71] Getting images from https://dog.ceo/api/breed/newfoundland/images\n",
      "[72] Getting images from https://dog.ceo/api/breed/otterhound/images\n",
      "[73] Getting images from https://dog.ceo/api/breed/ovcharka/caucasian/images\n",
      "[74] Getting images from https://dog.ceo/api/breed/papillon/images\n",
      "[75] Getting images from https://dog.ceo/api/breed/pekinese/images\n",
      "[76] Getting images from https://dog.ceo/api/breed/pembroke/images\n",
      "[77] Getting images from https://dog.ceo/api/breed/pinscher/miniature/images\n",
      "[78] Getting images from https://dog.ceo/api/breed/pitbull/images\n",
      "[79] Getting images from https://dog.ceo/api/breed/pointer/german/images\n",
      "[80] Getting images from https://dog.ceo/api/breed/pointer/germanlonghair/images\n",
      "[81] Getting images from https://dog.ceo/api/breed/pomeranian/images\n",
      "[82] Getting images from https://dog.ceo/api/breed/poodle/miniature/images\n",
      "[83] Getting images from https://dog.ceo/api/breed/poodle/standard/images\n",
      "[84] Getting images from https://dog.ceo/api/breed/poodle/toy/images\n",
      "[85] Getting images from https://dog.ceo/api/breed/pug/images\n",
      "[86] Getting images from https://dog.ceo/api/breed/puggle/images\n",
      "[87] Getting images from https://dog.ceo/api/breed/pyrenees/images\n",
      "[88] Getting images from https://dog.ceo/api/breed/redbone/images\n",
      "[89] Getting images from https://dog.ceo/api/breed/retriever/chesapeake/images\n",
      "[90] Getting images from https://dog.ceo/api/breed/retriever/curly/images\n",
      "[91] Getting images from https://dog.ceo/api/breed/retriever/flatcoated/images\n",
      "[92] Getting images from https://dog.ceo/api/breed/retriever/golden/images\n",
      "[93] Getting images from https://dog.ceo/api/breed/ridgeback/rhodesian/images\n",
      "[94] Getting images from https://dog.ceo/api/breed/rottweiler/images\n",
      "[95] Getting images from https://dog.ceo/api/breed/saluki/images\n",
      "[96] Getting images from https://dog.ceo/api/breed/samoyed/images\n",
      "[97] Getting images from https://dog.ceo/api/breed/schipperke/images\n",
      "[98] Getting images from https://dog.ceo/api/breed/schnauzer/giant/images\n",
      "[99] Getting images from https://dog.ceo/api/breed/schnauzer/miniature/images\n",
      "[100] Getting images from https://dog.ceo/api/breed/setter/english/images\n",
      "[101] Getting images from https://dog.ceo/api/breed/setter/gordon/images\n",
      "[102] Getting images from https://dog.ceo/api/breed/setter/irish/images\n",
      "[103] Getting images from https://dog.ceo/api/breed/sheepdog/english/images\n",
      "[104] Getting images from https://dog.ceo/api/breed/sheepdog/shetland/images\n",
      "[105] Getting images from https://dog.ceo/api/breed/shiba/images\n",
      "[106] Getting images from https://dog.ceo/api/breed/shihtzu/images\n",
      "[107] Getting images from https://dog.ceo/api/breed/spaniel/blenheim/images\n",
      "[108] Getting images from https://dog.ceo/api/breed/spaniel/brittany/images\n",
      "[109] Getting images from https://dog.ceo/api/breed/spaniel/cocker/images\n",
      "[110] Getting images from https://dog.ceo/api/breed/spaniel/irish/images\n",
      "[111] Getting images from https://dog.ceo/api/breed/spaniel/japanese/images\n",
      "[112] Getting images from https://dog.ceo/api/breed/spaniel/sussex/images\n",
      "[113] Getting images from https://dog.ceo/api/breed/spaniel/welsh/images\n",
      "[114] Getting images from https://dog.ceo/api/breed/springer/english/images\n",
      "[115] Getting images from https://dog.ceo/api/breed/stbernard/images\n",
      "[116] Getting images from https://dog.ceo/api/breed/terrier/american/images\n",
      "[117] Getting images from https://dog.ceo/api/breed/terrier/australian/images\n"
     ]
    },
    {
     "name": "stdout",
     "output_type": "stream",
     "text": [
      "[118] Getting images from https://dog.ceo/api/breed/terrier/bedlington/images\n",
      "[119] Getting images from https://dog.ceo/api/breed/terrier/border/images\n",
      "[120] Getting images from https://dog.ceo/api/breed/terrier/dandie/images\n",
      "[121] Getting images from https://dog.ceo/api/breed/terrier/fox/images\n",
      "[122] Getting images from https://dog.ceo/api/breed/terrier/irish/images\n",
      "[123] Getting images from https://dog.ceo/api/breed/terrier/kerryblue/images\n",
      "[124] Getting images from https://dog.ceo/api/breed/terrier/lakeland/images\n",
      "[125] Getting images from https://dog.ceo/api/breed/terrier/norfolk/images\n",
      "[126] Getting images from https://dog.ceo/api/breed/terrier/norwich/images\n",
      "[127] Getting images from https://dog.ceo/api/breed/terrier/patterdale/images\n",
      "[128] Getting images from https://dog.ceo/api/breed/terrier/russell/images\n",
      "[129] Getting images from https://dog.ceo/api/breed/terrier/scottish/images\n",
      "[130] Getting images from https://dog.ceo/api/breed/terrier/sealyham/images\n",
      "[131] Getting images from https://dog.ceo/api/breed/terrier/silky/images\n",
      "[132] Getting images from https://dog.ceo/api/breed/terrier/tibetan/images\n",
      "[133] Getting images from https://dog.ceo/api/breed/terrier/toy/images\n",
      "[134] Getting images from https://dog.ceo/api/breed/terrier/westhighland/images\n",
      "[135] Getting images from https://dog.ceo/api/breed/terrier/wheaten/images\n",
      "[136] Getting images from https://dog.ceo/api/breed/terrier/yorkshire/images\n",
      "[137] Getting images from https://dog.ceo/api/breed/vizsla/images\n",
      "[138] Getting images from https://dog.ceo/api/breed/waterdog/spanish/images\n",
      "[139] Getting images from https://dog.ceo/api/breed/weimaraner/images\n",
      "[140] Getting images from https://dog.ceo/api/breed/whippet/images\n",
      "[141] Getting images from https://dog.ceo/api/breed/wolfhound/irish/images\n",
      "\n"
     ]
    }
   ],
   "source": [
    "i = 1\n",
    "\n",
    "### Go through each endpoint to download imgaes\n",
    "for link in tqdm(link_list):\n",
    "    \n",
    "    ### Print status\n",
    "    print('[' + str(i) + '] Getting images from ' + link)\n",
    "    i += 1\n",
    "    \n",
    "    response = requests.get(link)\n",
    "    data = response.json()\n",
    "    \n",
    "    ### Download all images\n",
    "    try:\n",
    "        images = data.get('message')\n",
    "        for image in images:\n",
    "            clean = image.replace('https://images.dog.ceo/breeds/','')\n",
    "            breed = clean.split('/')[0]\n",
    "            filename = clean.split('/')[1]\n",
    "            req.urlretrieve(image, \"images/\" + breed + \"/\" + filename)\n",
    "    except:\n",
    "        continue"
   ]
  },
  {
   "cell_type": "markdown",
   "metadata": {},
   "source": [
    "***"
   ]
  },
  {
   "cell_type": "markdown",
   "metadata": {},
   "source": [
    "## 3: Getting Udacity / AWS Images"
   ]
  },
  {
   "cell_type": "markdown",
   "metadata": {},
   "source": [
    "This is the second part of the notebook where I download additional dataset coming from Udacity, stored in AWS."
   ]
  },
  {
   "cell_type": "markdown",
   "metadata": {},
   "source": [
    "### Initial Setup and Download"
   ]
  },
  {
   "cell_type": "code",
   "execution_count": null,
   "metadata": {},
   "outputs": [],
   "source": [
    "### The link where the additional dataset is downloaded\n",
    "url = 'https://s3-us-west-1.amazonaws.com/udacity-aind/dog-project/dogImages.zip'\n",
    "wget(url)"
   ]
  },
  {
   "cell_type": "code",
   "execution_count": 36,
   "metadata": {},
   "outputs": [],
   "source": [
    "### Setup\n",
    "folder_list = os.listdir('aws/')"
   ]
  },
  {
   "cell_type": "markdown",
   "metadata": {},
   "source": [
    "The following code blocks are commented out because I only want to run them once as they change actual file system folders. The folder names are changed to match the folder structure of the first dataset."
   ]
  },
  {
   "cell_type": "code",
   "execution_count": 30,
   "metadata": {},
   "outputs": [],
   "source": [
    "### Rename downloaded folders\n",
    "\n",
    "#for folder in folder_list:\n",
    "#    os.rename('aws/' + folder, 'aws/' + folder[4:])    "
   ]
  },
  {
   "cell_type": "code",
   "execution_count": 32,
   "metadata": {},
   "outputs": [],
   "source": [
    "### Rename downloaded folders\n",
    "\n",
    "#for folder in folder_list:\n",
    "#    os.rename('aws/' + folder, 'aws/' + folder.lower())"
   ]
  },
  {
   "cell_type": "code",
   "execution_count": 34,
   "metadata": {},
   "outputs": [],
   "source": [
    "# for folder in folder_list:\n",
    "#     new = folder.split('_')\n",
    "#     if len(new) == 1:\n",
    "#         continue\n",
    "#     elif len(new) == 2:\n",
    "#         new = new[1] + '-' + new[0]\n",
    "#         os.rename('aws/' + folder, 'aws/' + new)\n",
    "#     else :\n",
    "#         new = new[2] + '-' + new[0] + '-' + new[1]\n",
    "#         os.rename('aws/' + folder, 'aws/' + new)"
   ]
  },
  {
   "cell_type": "code",
   "execution_count": 37,
   "metadata": {},
   "outputs": [],
   "source": [
    "### Rename downloaded folders\n",
    "\n",
    "# for folder in folder_list:\n",
    "#    os.rename('aws/' + folder, 'aws/' + folder.lower())"
   ]
  },
  {
   "cell_type": "markdown",
   "metadata": {},
   "source": [
    "***"
   ]
  },
  {
   "cell_type": "markdown",
   "metadata": {},
   "source": [
    "## 4: Data Record and Export"
   ]
  },
  {
   "cell_type": "markdown",
   "metadata": {},
   "source": [
    "This section only records all of the images downloaded from both sources into a dataframe so that I have a reference of the image filename and its breed. This will be converted into labels later on."
   ]
  },
  {
   "cell_type": "code",
   "execution_count": 40,
   "metadata": {},
   "outputs": [
    {
     "data": {
      "application/vnd.jupyter.widget-view+json": {
       "model_id": "5eefa35930bc4c388281f84753ffa9fe",
       "version_major": 2,
       "version_minor": 0
      },
      "text/plain": [
       "HBox(children=(IntProgress(value=1, bar_style='info', max=1), HTML(value='')))"
      ]
     },
     "metadata": {},
     "output_type": "display_data"
    },
    {
     "name": "stdout",
     "output_type": "stream",
     "text": [
      "\n"
     ]
    }
   ],
   "source": [
    "### Create dataframe\n",
    "images_df = pd.DataFrame(columns=['filename', 'breed']) \n",
    "\n",
    "rootdir = 'images/'\n",
    "\n",
    "### Browse through root directory and store filenames and breeds (based on folders)\n",
    "for subdir, dirs, files in tqdm(os.walk(rootdir)):\n",
    "    for file in files:\n",
    "        if file == \".DS_Store\":\n",
    "            continue\n",
    "        else:\n",
    "            images_df = images_df.append({'filename': file,\n",
    "                                'breed': subdir[7:]}, ignore_index = True)"
   ]
  },
  {
   "cell_type": "code",
   "execution_count": 42,
   "metadata": {},
   "outputs": [
    {
     "data": {
      "text/html": [
       "<div>\n",
       "<style scoped>\n",
       "    .dataframe tbody tr th:only-of-type {\n",
       "        vertical-align: middle;\n",
       "    }\n",
       "\n",
       "    .dataframe tbody tr th {\n",
       "        vertical-align: top;\n",
       "    }\n",
       "\n",
       "    .dataframe thead th {\n",
       "        text-align: right;\n",
       "    }\n",
       "</style>\n",
       "<table border=\"1\" class=\"dataframe\">\n",
       "  <thead>\n",
       "    <tr style=\"text-align: right;\">\n",
       "      <th></th>\n",
       "      <th>filename</th>\n",
       "      <th>breed</th>\n",
       "    </tr>\n",
       "  </thead>\n",
       "  <tbody>\n",
       "    <tr>\n",
       "      <td>0</td>\n",
       "      <td>yr5nolw2d8qzb9i3scg4.jpg</td>\n",
       "      <td>setter-irish</td>\n",
       "    </tr>\n",
       "    <tr>\n",
       "      <td>1</td>\n",
       "      <td>01g4tqhjevrdzo3pl2ky.jpg</td>\n",
       "      <td>setter-irish</td>\n",
       "    </tr>\n",
       "    <tr>\n",
       "      <td>2</td>\n",
       "      <td>lhyq7io1ek6gbwuc2tn8.jpg</td>\n",
       "      <td>setter-irish</td>\n",
       "    </tr>\n",
       "    <tr>\n",
       "      <td>3</td>\n",
       "      <td>5971pwrfx0hunc3m4el2.jpg</td>\n",
       "      <td>setter-irish</td>\n",
       "    </tr>\n",
       "    <tr>\n",
       "      <td>4</td>\n",
       "      <td>o6vqbkigf4n32xmzrls5.jpg</td>\n",
       "      <td>setter-irish</td>\n",
       "    </tr>\n",
       "  </tbody>\n",
       "</table>\n",
       "</div>"
      ],
      "text/plain": [
       "                   filename         breed\n",
       "0  yr5nolw2d8qzb9i3scg4.jpg  setter-irish\n",
       "1  01g4tqhjevrdzo3pl2ky.jpg  setter-irish\n",
       "2  lhyq7io1ek6gbwuc2tn8.jpg  setter-irish\n",
       "3  5971pwrfx0hunc3m4el2.jpg  setter-irish\n",
       "4  o6vqbkigf4n32xmzrls5.jpg  setter-irish"
      ]
     },
     "execution_count": 42,
     "metadata": {},
     "output_type": "execute_result"
    }
   ],
   "source": [
    "### Validate\n",
    "images_df.head(5)"
   ]
  },
  {
   "cell_type": "code",
   "execution_count": 43,
   "metadata": {},
   "outputs": [
    {
     "data": {
      "text/plain": [
       "(28669, 2)"
      ]
     },
     "execution_count": 43,
     "metadata": {},
     "output_type": "execute_result"
    }
   ],
   "source": [
    "images_df.shape"
   ]
  },
  {
   "cell_type": "code",
   "execution_count": 45,
   "metadata": {},
   "outputs": [
    {
     "data": {
      "text/plain": [
       "173"
      ]
     },
     "execution_count": 45,
     "metadata": {},
     "output_type": "execute_result"
    }
   ],
   "source": [
    "### Check number of breeds\n",
    "len(images_df.breed.unique())"
   ]
  },
  {
   "cell_type": "markdown",
   "metadata": {},
   "source": [
    "The number of breeds above will further be reduced to just the top 50 according to AKC."
   ]
  },
  {
   "cell_type": "code",
   "execution_count": 46,
   "metadata": {},
   "outputs": [],
   "source": [
    "### Export to csv\n",
    "images_df.to_csv(\"images_df.csv\")"
   ]
  }
 ],
 "metadata": {
  "kernelspec": {
   "display_name": "Python 3",
   "language": "python",
   "name": "python3"
  },
  "language_info": {
   "codemirror_mode": {
    "name": "ipython",
    "version": 3
   },
   "file_extension": ".py",
   "mimetype": "text/x-python",
   "name": "python",
   "nbconvert_exporter": "python",
   "pygments_lexer": "ipython3",
   "version": "3.7.4"
  },
  "toc": {
   "base_numbering": 1,
   "nav_menu": {},
   "number_sections": true,
   "sideBar": true,
   "skip_h1_title": false,
   "title_cell": "Table of Contents",
   "title_sidebar": "Contents",
   "toc_cell": false,
   "toc_position": {},
   "toc_section_display": true,
   "toc_window_display": false
  }
 },
 "nbformat": 4,
 "nbformat_minor": 2
}
