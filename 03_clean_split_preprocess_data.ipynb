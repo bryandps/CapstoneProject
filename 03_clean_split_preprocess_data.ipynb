{
 "cells": [
  {
   "cell_type": "markdown",
   "metadata": {},
   "source": [
    "# What's that Doggy in the Window?\n",
    "## Data Cleaning and Pre-processing"
   ]
  },
  {
   "cell_type": "markdown",
   "metadata": {},
   "source": [
    "By: **Bryan Santos**"
   ]
  },
  {
   "cell_type": "markdown",
   "metadata": {},
   "source": [
    "Have you ever wanted to know the breed of dogs you see in social media or with other people because you like how they look, whether tough or cute?\n",
    "\n",
    "This project aims to build an application that lets users upload images of a dog and to get its breed. The application will then assess the breed characteristics if it is suitable for the user based on lifestyle. If it is, then the system will redirect the user to dogs of that particular breed that is up for adoption. If not compatible, then the the system will suggest top five most compatible breeds.\n",
    "\n",
    "The project will utilize multi-class image classification and recommendation systems machine learning models to achieve its goals.\n",
    "\n",
    "The pet industry is a multi-billion dollar industry even just in the United States alone. The trend of owning pets is on a steady rise. Unfortunately, so do the number of dogs that would be without a permanent home or that would be euthanized. Many people buy dogs because of fad or appearances and abandon them, most likely because they do not realize that dogs of different breeds have unique characteristics and may not necessarily match their lifestyles.\n",
    "\n",
    "***"
   ]
  },
  {
   "cell_type": "markdown",
   "metadata": {},
   "source": [
    "This is the third notebook in the project. The purpose of this notebook is to clean and pre-process all the dataset I have gathered through a series of web scraping and API calls."
   ]
  },
  {
   "cell_type": "markdown",
   "metadata": {},
   "source": [
    "## 1: Package Imports and Data Load"
   ]
  },
  {
   "cell_type": "markdown",
   "metadata": {},
   "source": [
    "Below are the packages used to clean the various dataset I have gathered."
   ]
  },
  {
   "cell_type": "code",
   "execution_count": 1,
   "metadata": {},
   "outputs": [],
   "source": [
    "import pandas as pd\n",
    "import numpy as np\n",
    "import json\n",
    "import requests\n",
    "from requests import get\n",
    "import urllib.request as req\n",
    "import os, sys, random, string\n",
    "import tqdm\n",
    "import shutil\n",
    "import random\n",
    "import matplotlib.pyplot as plt\n",
    "import seaborn as sns\n",
    "sns.set()\n",
    "import missingno as mno\n",
    "\n",
    "import warnings\n",
    "warnings.filterwarnings(\"ignore\")"
   ]
  },
  {
   "cell_type": "code",
   "execution_count": 2,
   "metadata": {},
   "outputs": [],
   "source": [
    "%%capture\n",
    "\n",
    "from tqdm import tqdm_notebook as tqdm\n",
    "from tqdm import tnrange\n",
    "tqdm().pandas()"
   ]
  },
  {
   "cell_type": "markdown",
   "metadata": {},
   "source": [
    "Load the dataframe that recorded all of images gathered from various web scrape sessions and API calls. This dataframe should already have the combined images from www.dog.ceo and Udacity."
   ]
  },
  {
   "cell_type": "code",
   "execution_count": 73,
   "metadata": {
    "scrolled": false
   },
   "outputs": [],
   "source": [
    "### Load dataframe\n",
    "images_df = pd.read_csv('images_df.csv')"
   ]
  },
  {
   "cell_type": "code",
   "execution_count": 74,
   "metadata": {},
   "outputs": [
    {
     "data": {
      "text/plain": [
       "(28669, 2)"
      ]
     },
     "execution_count": 74,
     "metadata": {},
     "output_type": "execute_result"
    }
   ],
   "source": [
    "### Delete unnecessaru column\n",
    "del images_df['Unnamed: 0']\n",
    "images_df.shape"
   ]
  },
  {
   "cell_type": "code",
   "execution_count": 75,
   "metadata": {},
   "outputs": [
    {
     "data": {
      "text/html": [
       "<div>\n",
       "<style scoped>\n",
       "    .dataframe tbody tr th:only-of-type {\n",
       "        vertical-align: middle;\n",
       "    }\n",
       "\n",
       "    .dataframe tbody tr th {\n",
       "        vertical-align: top;\n",
       "    }\n",
       "\n",
       "    .dataframe thead th {\n",
       "        text-align: right;\n",
       "    }\n",
       "</style>\n",
       "<table border=\"1\" class=\"dataframe\">\n",
       "  <thead>\n",
       "    <tr style=\"text-align: right;\">\n",
       "      <th></th>\n",
       "      <th>filename</th>\n",
       "      <th>breed</th>\n",
       "    </tr>\n",
       "  </thead>\n",
       "  <tbody>\n",
       "    <tr>\n",
       "      <td>0</td>\n",
       "      <td>yr5nolw2d8qzb9i3scg4.jpg</td>\n",
       "      <td>setter-irish</td>\n",
       "    </tr>\n",
       "    <tr>\n",
       "      <td>1</td>\n",
       "      <td>01g4tqhjevrdzo3pl2ky.jpg</td>\n",
       "      <td>setter-irish</td>\n",
       "    </tr>\n",
       "    <tr>\n",
       "      <td>2</td>\n",
       "      <td>lhyq7io1ek6gbwuc2tn8.jpg</td>\n",
       "      <td>setter-irish</td>\n",
       "    </tr>\n",
       "    <tr>\n",
       "      <td>3</td>\n",
       "      <td>5971pwrfx0hunc3m4el2.jpg</td>\n",
       "      <td>setter-irish</td>\n",
       "    </tr>\n",
       "    <tr>\n",
       "      <td>4</td>\n",
       "      <td>o6vqbkigf4n32xmzrls5.jpg</td>\n",
       "      <td>setter-irish</td>\n",
       "    </tr>\n",
       "  </tbody>\n",
       "</table>\n",
       "</div>"
      ],
      "text/plain": [
       "                   filename         breed\n",
       "0  yr5nolw2d8qzb9i3scg4.jpg  setter-irish\n",
       "1  01g4tqhjevrdzo3pl2ky.jpg  setter-irish\n",
       "2  lhyq7io1ek6gbwuc2tn8.jpg  setter-irish\n",
       "3  5971pwrfx0hunc3m4el2.jpg  setter-irish\n",
       "4  o6vqbkigf4n32xmzrls5.jpg  setter-irish"
      ]
     },
     "execution_count": 75,
     "metadata": {},
     "output_type": "execute_result"
    }
   ],
   "source": [
    "images_df.head(5)"
   ]
  },
  {
   "cell_type": "markdown",
   "metadata": {},
   "source": [
    "***"
   ]
  },
  {
   "cell_type": "markdown",
   "metadata": {},
   "source": [
    "## 2: Images - Data Cleaning"
   ]
  },
  {
   "cell_type": "markdown",
   "metadata": {},
   "source": [
    "This section aims to clean and preprocess all images gathered from previous steps."
   ]
  },
  {
   "cell_type": "code",
   "execution_count": 76,
   "metadata": {},
   "outputs": [],
   "source": [
    "### Get count of unique breeds which will serve as the classes\n",
    "count_df = images_df.breed.value_counts()"
   ]
  },
  {
   "cell_type": "code",
   "execution_count": 77,
   "metadata": {},
   "outputs": [],
   "source": [
    "### Convert to dataframe\n",
    "count_df = pd.DataFrame(count_df)\n",
    "count_df = count_df.reset_index()\n",
    "count_df.columns = ['breed', 'count']"
   ]
  },
  {
   "cell_type": "code",
   "execution_count": 29,
   "metadata": {
    "scrolled": true
   },
   "outputs": [
    {
     "data": {
      "text/plain": [
       "<matplotlib.axes._subplots.AxesSubplot at 0x11899a4d0>"
      ]
     },
     "execution_count": 29,
     "metadata": {},
     "output_type": "execute_result"
    },
    {
     "data": {
      "image/png": "[encoded data removed]",
      "text/plain": [
       "<Figure size 1440x720 with 1 Axes>"
      ]
     },
     "metadata": {},
     "output_type": "display_data"
    }
   ],
   "source": [
    "### Quick look at the distribution\n",
    "images_df[\"breed\"].value_counts().plot.bar(figsize=(20, 10))"
   ]
  },
  {
   "cell_type": "markdown",
   "metadata": {},
   "source": [
    "The code below is here just in case I need to filter the number of classes I would predict. It is obvious in the visualization that I have a serious **class imbalance** especially when we consider that we have 173 total classes. However,  I want to look at the results of my classification models first before I decide if I will simplify my data my reducing the number of classes, which effectively means reducing the number of images. Transfer Learning may be key in being able to effectively build models on this many classes despite the imbalance. Transfer Learning involves using pre-trained models.\n",
    "\n",
    "One way to do this is to only include classes that have the count above a certain threshold. The code block below is reserved for this purpose."
   ]
  },
  {
   "cell_type": "code",
   "execution_count": 30,
   "metadata": {},
   "outputs": [],
   "source": [
    "### Filter dataset\n",
    "delete_df = count_df.loc[(count_df['count'] < 50)]"
   ]
  },
  {
   "cell_type": "code",
   "execution_count": 31,
   "metadata": {},
   "outputs": [
    {
     "data": {
      "text/plain": [
       "(18, 2)"
      ]
     },
     "execution_count": 31,
     "metadata": {},
     "output_type": "execute_result"
    }
   ],
   "source": [
    "delete_df.shape"
   ]
  },
  {
   "cell_type": "code",
   "execution_count": 32,
   "metadata": {},
   "outputs": [
    {
     "data": {
      "text/plain": [
       "155            spaniel-english-toy\n",
       "156                  hound-pharaoh\n",
       "157          setter-irish-redwhite\n",
       "158         spaniel-american-water\n",
       "159           dog-portuguese-water\n",
       "160                  spitz-finnish\n",
       "161                        lowchen\n",
       "162            lundehund-norwegian\n",
       "163                  spaniel-field\n",
       "164                        pointer\n",
       "165           griffon-petit-basset\n",
       "166             mastiff-neapolitan\n",
       "167         terrier-parson-russell\n",
       "168             terrier-smooth-fox\n",
       "169    griffon-wirehaired-pointing\n",
       "170             terrier-manchester\n",
       "171                          plott\n",
       "172               buhund-norwegian\n",
       "Name: breed, dtype: object"
      ]
     },
     "execution_count": 32,
     "metadata": {},
     "output_type": "execute_result"
    }
   ],
   "source": [
    "### Validate list\n",
    "delete_list = delete_df['breed']\n",
    "delete_list"
   ]
  },
  {
   "cell_type": "markdown",
   "metadata": {},
   "source": [
    "The code below will be run if it is necessary to delete classes due to lack of images of certain breeds."
   ]
  },
  {
   "cell_type": "code",
   "execution_count": 29,
   "metadata": {},
   "outputs": [
    {
     "name": "stdout",
     "output_type": "stream",
     "text": [
      "[1] Deleting folder ovcharka-caucasian\n",
      "[2] Deleting folder mix\n",
      "[3] Deleting folder dachshund\n",
      "[4] Deleting folder shiba\n",
      "[5] Deleting folder cattledog-australian\n",
      "[6] Deleting folder frise-bichon\n",
      "[7] Deleting folder akita\n",
      "[8] Deleting folder pointer-germanlonghair\n",
      "[9] Deleting folder waterdog-spanish\n",
      "[10] Deleting folder terrier-patterdale\n",
      "[11] Deleting folder havanese\n",
      "[12] Deleting folder mastiff-english\n",
      "[13] Deleting folder cotondetulear\n",
      "[14] Deleting folder hound-plott\n",
      "[15] Deleting folder pitbull\n",
      "[16] Deleting folder terrier-russell\n",
      "[17] Deleting folder buhund-norwegian\n",
      "[18] Deleting folder bulldog-english\n",
      "[19] Deleting folder australian-shepherd\n",
      "[20] Deleting folder dalmatian\n",
      "[21] Deleting folder cockapoo\n",
      "[22] Deleting folder finnish-lapphund\n"
     ]
    }
   ],
   "source": [
    "### Delete actual folders in the file system\n",
    "\n",
    "# i = 1\n",
    "\n",
    "# for folder in delete_list:\n",
    "    \n",
    "#     print('[' + str(i) + '] Deleting folder ' + folder)\n",
    "#     i += 1\n",
    "    \n",
    "#     try:\n",
    "#         shutil.rmtree(\"images/\" + folder + \"/\")\n",
    "#     except OSError as e:\n",
    "#         print (\"Error: %s - %s.\" % (e.filename, e.strerror))"
   ]
  },
  {
   "cell_type": "code",
   "execution_count": 78,
   "metadata": {},
   "outputs": [
    {
     "data": {
      "text/plain": [
       "<bound method NDFrame.tail of 0                          maltese\n",
       "1                 mountain-bernese\n",
       "2                          basenji\n",
       "3                   pyrenees-great\n",
       "4                  wolfhound-irish\n",
       "                  ...             \n",
       "168             terrier-smooth-fox\n",
       "169    griffon-wirehaired-pointing\n",
       "170             terrier-manchester\n",
       "171                          plott\n",
       "172               buhund-norwegian\n",
       "Name: breed, Length: 173, dtype: object>"
      ]
     },
     "execution_count": 78,
     "metadata": {},
     "output_type": "execute_result"
    }
   ],
   "source": [
    "breed_list = count_df['breed']\n",
    "breed_list.tail"
   ]
  },
  {
   "cell_type": "markdown",
   "metadata": {},
   "source": [
    "### Choosing Top 50"
   ]
  },
  {
   "cell_type": "markdown",
   "metadata": {},
   "source": [
    "This section is where I would reduce my dataset to the Top 50 breeds according to the American Kennel Club. This list is based on the number of breed registrations per year so this is a very good indicator of the top breeds that people are interested in. Another reason why I am reducing the dataset is for my project to have more focus - including my models."
   ]
  },
  {
   "cell_type": "code",
   "execution_count": 53,
   "metadata": {},
   "outputs": [
    {
     "name": "stdout",
     "output_type": "stream",
     "text": [
      "[]\n"
     ]
    }
   ],
   "source": [
    "print ([name for name in os.listdir(\"images/\") if os.path.isdir(name)])"
   ]
  },
  {
   "cell_type": "code",
   "execution_count": 57,
   "metadata": {},
   "outputs": [
    {
     "data": {
      "text/plain": [
       "50"
      ]
     },
     "execution_count": 57,
     "metadata": {},
     "output_type": "execute_result"
    }
   ],
   "source": [
    "breedlist = os.listdir(\"images/\")\n",
    "len(breedlist)"
   ]
  },
  {
   "cell_type": "markdown",
   "metadata": {},
   "source": [
    "***"
   ]
  },
  {
   "cell_type": "markdown",
   "metadata": {},
   "source": [
    "## 3: Images - Pre-Processing"
   ]
  },
  {
   "cell_type": "markdown",
   "metadata": {},
   "source": [
    "### Randomizing Filenames"
   ]
  },
  {
   "cell_type": "markdown",
   "metadata": {},
   "source": [
    "Given that the images were gathered from multiple sources (www.dog.ceo accepts user uploaded images and retained user-specified filenames), some of the filenames include the actual breed of the images. I don't want this to play a factor in the actual classification models which is why I am randomizing the names of each image files."
   ]
  },
  {
   "cell_type": "code",
   "execution_count": 118,
   "metadata": {},
   "outputs": [],
   "source": [
    "def do_rename(path):\n",
    "    '''\n",
    "    This function checks each file for renaming if they are valid. If\n",
    "    valid, this runs the create_random_name function to generate the \n",
    "    name then does the actual file system renaming.\n",
    "    \n",
    "    Parameters:\n",
    "    - path = image path for renaming\n",
    "    \n",
    "    Output:\n",
    "    - Sets the new randomized filename\n",
    "    \n",
    "    '''\n",
    "    for this in os.listdir(path):\n",
    "        \n",
    "        ### Check if valid\n",
    "        if os.path.isfile(path+this):\n",
    "            \n",
    "            ### Get a random name including the previous file extension\n",
    "            rand = create_random_name(path, os.path.splitext(this)[1])\n",
    "            \n",
    "            ### Actual renaming\n",
    "            os.rename(path+this, path+rand)\n",
    "\n",
    "        else:\n",
    "            ### Not a file\n",
    "            print(\"\\tSkipped:\", \"'\"+this+\"'\", \"Target is not a file\")"
   ]
  },
  {
   "cell_type": "code",
   "execution_count": 119,
   "metadata": {},
   "outputs": [],
   "source": [
    "def create_random_name(path, ext):\n",
    "    '''\n",
    "    This function creates a randomized file name and ensures \n",
    "    that the generated name has no duplicates.\n",
    "    \n",
    "    Parameters:\n",
    "    - path = image path for renaming\n",
    "    - ext = file extension\n",
    "    \n",
    "    Output:\n",
    "    - New randomized and unique filename\n",
    "    \n",
    "    '''\n",
    "    check = False\n",
    "    while check == False:\n",
    "        rand = \"\".join(random.sample(string.ascii_lowercase + string.digits, 20)) + ext\n",
    "        check = True if not os.path.exists(path + rand) else False\n",
    "    return rand"
   ]
  },
  {
   "cell_type": "code",
   "execution_count": 120,
   "metadata": {},
   "outputs": [
    {
     "data": {
      "application/vnd.jupyter.widget-view+json": {
       "model_id": "5e66ca0ad81e4a3cb96ad7ed1350c386",
       "version_major": 2,
       "version_minor": 0
      },
      "text/plain": [
       "HBox(children=(IntProgress(value=0, max=173), HTML(value='')))"
      ]
     },
     "metadata": {},
     "output_type": "display_data"
    },
    {
     "name": "stdout",
     "output_type": "stream",
     "text": [
      "[1] Renaming images in maltese\n",
      "[2] Renaming images in mountain-bernese\n",
      "[3] Renaming images in basenji\n",
      "[4] Renaming images in pyrenees-great\n",
      "[5] Renaming images in wolfhound-irish\n",
      "[6] Renaming images in pomeranian\n",
      "[7] Renaming images in chow\n",
      "[8] Renaming images in papillon\n",
      "[9] Renaming images in malamute\n",
      "[10] Renaming images in beagle\n",
      "[11] Renaming images in hound-blood\n",
      "[12] Renaming images in hound-basset\n",
      "[13] Renaming images in leonberg\n",
      "[14] Renaming images in terrier-airedale\n",
      "[15] Renaming images in terrier-boston\n",
      "[16] Renaming images in terrier-lakeland\n",
      "[17] Renaming images in newfoundland\n",
      "[18] Renaming images in spaniel-japanese\n",
      "[19] Renaming images in entlebucher\n",
      "[20] Renaming images in greyhound-italian\n",
      "[21] Renaming images in terrier-australian\n",
      "[22] Renaming images in elkhound-norwegian\n",
      "[23] Renaming images in terrier-irish\n",
      "[24] Renaming images in hound-afghan\n",
      "[25] Renaming images in corgi-pembroke-welsh\n",
      "[26] Renaming images in hound-ibizan\n",
      "[27] Renaming images in collie-border\n",
      "[28] Renaming images in terrier-dandie\n",
      "[29] Renaming images in terrier-bedlington\n",
      "[30] Renaming images in mastiff-bull\n",
      "[31] Renaming images in terrier-norwich\n",
      "[32] Renaming images in lhasa\n",
      "[33] Renaming images in terrier-american-staffordshire\n",
      "[34] Renaming images in terrier-border\n",
      "[35] Renaming images in retriever-chesapeake\n",
      "[36] Renaming images in terrier-silky\n",
      "[37] Renaming images in boxer\n",
      "[38] Renaming images in briard\n",
      "[39] Renaming images in deerhound-scottish\n",
      "[40] Renaming images in germanshepherd\n",
      "[41] Renaming images in retriever-golden\n",
      "[42] Renaming images in retriever-labrador\n",
      "[43] Renaming images in retriever-flatcoated\n",
      "[44] Renaming images in affenpinscher\n",
      "[45] Renaming images in terrier-norfolk\n",
      "[46] Renaming images in eskimo\n",
      "[47] Renaming images in malinois-belgian\n",
      "[48] Renaming images in setter-english\n",
      "[49] Renaming images in bulldog-french\n",
      "[50] Renaming images in mountain-swiss\n",
      "[51] Renaming images in terrier-kerryblue\n",
      "[52] Renaming images in setter-irish\n",
      "[53] Renaming images in borzoi\n",
      "[54] Renaming images in poodle-standard\n",
      "[55] Renaming images in corgi-cardigan-welsh\n",
      "[56] Renaming images in chihuahua\n",
      "[57] Renaming images in spaniel-cocker\n",
      "[58] Renaming images in samoyed\n",
      "[59] Renaming images in sheepdog-english\n",
      "[60] Renaming images in bluetick\n",
      "[61] Renaming images in spaniel-irish\n",
      "[62] Renaming images in shihtzu\n",
      "[63] Renaming images in spaniel-brittany\n",
      "[64] Renaming images in keeshond\n",
      "[65] Renaming images in mastiff-tibetan\n",
      "[66] Renaming images in pointer-german-shorthaired\n",
      "[67] Renaming images in dane-great\n",
      "[68] Renaming images in kuvasz\n",
      "[69] Renaming images in pinscher-doberman\n",
      "[70] Renaming images in pekingese\n",
      "[71] Renaming images in komondor\n",
      "[72] Renaming images in schnauzer-giant\n",
      "[73] Renaming images in pug\n",
      "[74] Renaming images in schnauzer-miniature\n",
      "[75] Renaming images in stbernard\n",
      "[76] Renaming images in setter-gordon\n",
      "[77] Renaming images in bouvier\n",
      "[78] Renaming images in terrier-tibetan\n",
      "[79] Renaming images in coonhound\n",
      "[80] Renaming images in spaniel-welsh\n",
      "[81] Renaming images in terrier-sealyham\n",
      "[82] Renaming images in terrier-yorkshire\n",
      "[83] Renaming images in saluki\n",
      "[84] Renaming images in cairn\n",
      "[85] Renaming images in husky\n",
      "[86] Renaming images in otterhound\n",
      "[87] Renaming images in xoloitzcuintli\n",
      "[88] Renaming images in spaniel-blenheim\n",
      "[89] Renaming images in whippet\n",
      "[90] Renaming images in pinscher-miniature\n",
      "[91] Renaming images in ridgeback-rhodesian\n",
      "[92] Renaming images in terrier-toy\n",
      "[93] Renaming images in terrier-westhighland\n",
      "[94] Renaming images in african\n",
      "[95] Renaming images in terrier-american\n",
      "[96] Renaming images in springer-english\n",
      "[97] Renaming images in weimaraner\n",
      "[98] Renaming images in terrier-scottish\n",
      "[99] Renaming images in sheepdog-shetland\n",
      "[100] Renaming images in hound-english\n",
      "[101] Renaming images in terrier-fox\n",
      "[102] Renaming images in dingo\n",
      "[103] Renaming images in terrier-wheaten\n",
      "[104] Renaming images in poodle-miniature\n",
      "[105] Renaming images in vizsla\n",
      "[106] Renaming images in schipperke\n",
      "[107] Renaming images in brabancon\n",
      "[108] Renaming images in hound-walker\n",
      "[109] Renaming images in kelpie\n",
      "[110] Renaming images in rottweiler\n",
      "[111] Renaming images in spaniel-sussex\n",
      "[112] Renaming images in poodle-toy\n",
      "[113] Renaming images in appenzeller\n",
      "[114] Renaming images in retriever-curly\n",
      "[115] Renaming images in clumber\n",
      "[116] Renaming images in dhole\n",
      "[117] Renaming images in groenendael\n",
      "[118] Renaming images in redbone\n",
      "[119] Renaming images in dachshund\n",
      "[120] Renaming images in cattledog-australian\n",
      "[121] Renaming images in dalmatian\n",
      "[122] Renaming images in akita\n",
      "[123] Renaming images in terrier-bull\n",
      "[124] Renaming images in charles-cavalier-king\n",
      "[125] Renaming images in shepherd-australian\n",
      "[126] Renaming images in sheepdog-belgian\n",
      "[127] Renaming images in corso-cane\n",
      "[128] Renaming images in terrier-cairn\n",
      "[129] Renaming images in frise-bichon\n",
      "[130] Renaming images in collie-bearded\n",
      "[131] Renaming images in havanese\n",
      "[132] Renaming images in spaniel-english-cocker\n",
      "[133] Renaming images in bordeaux-dogue-de\n",
      "[134] Renaming images in mastiff\n",
      "[135] Renaming images in collie\n",
      "[136] Renaming images in griffon-brussels\n",
      "[137] Renaming images in greyhound\n",
      "[138] Renaming images in duck-nova-scotia\n",
      "[139] Renaming images in bulldog-english\n",
      "[140] Renaming images in spaniel-boykin\n",
      "[141] Renaming images in spaniel-english-springer\n",
      "[142] Renaming images in retriever-curlycoated\n",
      "[143] Renaming images in beauceron\n",
      "[144] Renaming images in foxhound-american\n",
      "[145] Renaming images in crested-chinese\n",
      "[146] Renaming images in canaan\n",
      "[147] Renaming images in shar-pei-chinese\n",
      "[148] Renaming images in shepherd-anatolian\n",
      "[149] Renaming images in sheepdog-icelandic\n",
      "[150] Renaming images in spaniel-clumber\n",
      "[151] Renaming images in pinscher-german\n",
      "[152] Renaming images in tervuren-belgian\n",
      "[153] Renaming images in terrier-imaal-glen-of\n",
      "[154] Renaming images in pointer-german-wirehaired\n",
      "[155] Renaming images in terrier-black-russian\n",
      "[156] Renaming images in spaniel-english-toy\n",
      "[157] Renaming images in hound-pharaoh\n",
      "[158] Renaming images in setter-irish-redwhite\n",
      "[159] Renaming images in spaniel-american-water\n",
      "[160] Renaming images in dog-portuguese-water\n",
      "[161] Renaming images in spitz-finnish\n",
      "[162] Renaming images in lowchen\n",
      "[163] Renaming images in lundehund-norwegian\n",
      "[164] Renaming images in spaniel-field\n",
      "[165] Renaming images in pointer\n",
      "[166] Renaming images in griffon-petit-basset\n",
      "[167] Renaming images in mastiff-neapolitan\n",
      "[168] Renaming images in terrier-parson-russell\n",
      "[169] Renaming images in terrier-smooth-fox\n",
      "[170] Renaming images in griffon-wirehaired-pointing\n",
      "[171] Renaming images in terrier-manchester\n",
      "[172] Renaming images in plott\n",
      "[173] Renaming images in buhund-norwegian\n",
      "\n"
     ]
    }
   ],
   "source": [
    "### Iterate through the images in each folder for renaming\n",
    "i = 1\n",
    "for breed in tqdm(breed_list):\n",
    "    \n",
    "    ### Print status\n",
    "    print('[' + str(i) + '] Renaming images in ' + breed)\n",
    "    i += 1\n",
    "    \n",
    "    ### Run renaming functions\n",
    "    dorename('images/' + breed + '/')"
   ]
  },
  {
   "cell_type": "code",
   "execution_count": 37,
   "metadata": {},
   "outputs": [
    {
     "data": {
      "application/vnd.jupyter.widget-view+json": {
       "model_id": "2da105dfb4434e37a1a9a42e38a2486e",
       "version_major": 2,
       "version_minor": 0
      },
      "text/plain": [
       "HBox(children=(IntProgress(value=1, bar_style='info', max=1), HTML(value='')))"
      ]
     },
     "metadata": {},
     "output_type": "display_data"
    },
    {
     "name": "stdout",
     "output_type": "stream",
     "text": [
      "\n"
     ]
    }
   ],
   "source": [
    "### Records all new filenames in a new dataframe\n",
    "labels_df = pd.DataFrame(columns=['filename', 'breed']) \n",
    "\n",
    "rootdir = 'images/'\n",
    "\n",
    "for subdir, dirs, files in tqdm(os.walk(rootdir)):\n",
    "    for file in files:\n",
    "        if file == \".DS_Store\":\n",
    "            continue\n",
    "        else:\n",
    "            labels_df = labels_df.append({'filename': file,\n",
    "                                'breed': subdir[7:]}, ignore_index = True) "
   ]
  },
  {
   "cell_type": "code",
   "execution_count": 38,
   "metadata": {},
   "outputs": [
    {
     "data": {
      "text/html": [
       "<div>\n",
       "<style scoped>\n",
       "    .dataframe tbody tr th:only-of-type {\n",
       "        vertical-align: middle;\n",
       "    }\n",
       "\n",
       "    .dataframe tbody tr th {\n",
       "        vertical-align: top;\n",
       "    }\n",
       "\n",
       "    .dataframe thead th {\n",
       "        text-align: right;\n",
       "    }\n",
       "</style>\n",
       "<table border=\"1\" class=\"dataframe\">\n",
       "  <thead>\n",
       "    <tr style=\"text-align: right;\">\n",
       "      <th></th>\n",
       "      <th>filename</th>\n",
       "      <th>breed</th>\n",
       "    </tr>\n",
       "  </thead>\n",
       "  <tbody>\n",
       "    <tr>\n",
       "      <td>0</td>\n",
       "      <td>m3rtu0pyxo1ca2vgf6sq.jpg</td>\n",
       "      <td>setter-irish</td>\n",
       "    </tr>\n",
       "    <tr>\n",
       "      <td>1</td>\n",
       "      <td>6gmp18sr3ochjtqef9dn.jpg</td>\n",
       "      <td>setter-irish</td>\n",
       "    </tr>\n",
       "    <tr>\n",
       "      <td>2</td>\n",
       "      <td>5hiq1brc93wvls2fag6p.jpg</td>\n",
       "      <td>setter-irish</td>\n",
       "    </tr>\n",
       "    <tr>\n",
       "      <td>3</td>\n",
       "      <td>an5jsg6tylr72v0kehmo.jpg</td>\n",
       "      <td>setter-irish</td>\n",
       "    </tr>\n",
       "    <tr>\n",
       "      <td>4</td>\n",
       "      <td>rx34ztg01jpwni9hocy2.jpg</td>\n",
       "      <td>setter-irish</td>\n",
       "    </tr>\n",
       "    <tr>\n",
       "      <td>...</td>\n",
       "      <td>...</td>\n",
       "      <td>...</td>\n",
       "    </tr>\n",
       "    <tr>\n",
       "      <td>28666</td>\n",
       "      <td>vx6bwt49pm7sr2a1koiq.jpg</td>\n",
       "      <td>terrier-norfolk</td>\n",
       "    </tr>\n",
       "    <tr>\n",
       "      <td>28667</td>\n",
       "      <td>m12tnyublig08d4af7kw.jpg</td>\n",
       "      <td>terrier-norfolk</td>\n",
       "    </tr>\n",
       "    <tr>\n",
       "      <td>28668</td>\n",
       "      <td>0ykgp37b5trh2vwnu9fx.jpg</td>\n",
       "      <td>terrier-norfolk</td>\n",
       "    </tr>\n",
       "    <tr>\n",
       "      <td>28669</td>\n",
       "      <td>zo6xdtq5b0r2yn713gia.jpg</td>\n",
       "      <td>terrier-norfolk</td>\n",
       "    </tr>\n",
       "    <tr>\n",
       "      <td>28670</td>\n",
       "      <td>vy4id7ug5pt28km9jfr0.jpg</td>\n",
       "      <td>terrier-norfolk</td>\n",
       "    </tr>\n",
       "  </tbody>\n",
       "</table>\n",
       "<p>28671 rows × 2 columns</p>\n",
       "</div>"
      ],
      "text/plain": [
       "                       filename            breed\n",
       "0      m3rtu0pyxo1ca2vgf6sq.jpg     setter-irish\n",
       "1      6gmp18sr3ochjtqef9dn.jpg     setter-irish\n",
       "2      5hiq1brc93wvls2fag6p.jpg     setter-irish\n",
       "3      an5jsg6tylr72v0kehmo.jpg     setter-irish\n",
       "4      rx34ztg01jpwni9hocy2.jpg     setter-irish\n",
       "...                         ...              ...\n",
       "28666  vx6bwt49pm7sr2a1koiq.jpg  terrier-norfolk\n",
       "28667  m12tnyublig08d4af7kw.jpg  terrier-norfolk\n",
       "28668  0ykgp37b5trh2vwnu9fx.jpg  terrier-norfolk\n",
       "28669  zo6xdtq5b0r2yn713gia.jpg  terrier-norfolk\n",
       "28670  vy4id7ug5pt28km9jfr0.jpg  terrier-norfolk\n",
       "\n",
       "[28671 rows x 2 columns]"
      ]
     },
     "execution_count": 38,
     "metadata": {},
     "output_type": "execute_result"
    }
   ],
   "source": [
    "labels_df"
   ]
  },
  {
   "cell_type": "code",
   "execution_count": 39,
   "metadata": {},
   "outputs": [],
   "source": [
    "### Export dataset\n",
    "labels_df.to_csv(\"labels.csv\")"
   ]
  },
  {
   "cell_type": "markdown",
   "metadata": {},
   "source": [
    "### Initial Test, Train Split"
   ]
  },
  {
   "cell_type": "markdown",
   "metadata": {},
   "source": [
    "Some approaches in image classification require that the images are separated into different training, validation and testing folders. This section does exactly that by randomly transferring the images to corresponding folders. The split ratio is based on the variables set below. I am recording everything to a dataframe again to ensure that I am keeping track of all the movements."
   ]
  },
  {
   "cell_type": "code",
   "execution_count": 66,
   "metadata": {},
   "outputs": [
    {
     "data": {
      "application/vnd.jupyter.widget-view+json": {
       "model_id": "c71fa90c554e466c963313f4977102fd",
       "version_major": 2,
       "version_minor": 0
      },
      "text/plain": [
       "HBox(children=(IntProgress(value=0, max=173), HTML(value='')))"
      ]
     },
     "metadata": {},
     "output_type": "display_data"
    },
    {
     "name": "stdout",
     "output_type": "stream",
     "text": [
      "[1] Train, val, test split images from maltese\n",
      "[2] Train, val, test split images from mountain-bernese\n",
      "[3] Train, val, test split images from basenji\n",
      "[4] Train, val, test split images from pyrenees-great\n",
      "[5] Train, val, test split images from wolfhound-irish\n",
      "[6] Train, val, test split images from pomeranian\n",
      "[7] Train, val, test split images from chow\n",
      "[8] Train, val, test split images from papillon\n",
      "[9] Train, val, test split images from malamute\n",
      "[10] Train, val, test split images from beagle\n",
      "[11] Train, val, test split images from hound-blood\n",
      "[12] Train, val, test split images from hound-basset\n",
      "[13] Train, val, test split images from leonberg\n",
      "[14] Train, val, test split images from terrier-airedale\n",
      "[15] Train, val, test split images from terrier-boston\n",
      "[16] Train, val, test split images from terrier-lakeland\n",
      "[17] Train, val, test split images from newfoundland\n",
      "[18] Train, val, test split images from spaniel-japanese\n",
      "[19] Train, val, test split images from entlebucher\n",
      "[20] Train, val, test split images from greyhound-italian\n",
      "[21] Train, val, test split images from terrier-australian\n",
      "[22] Train, val, test split images from elkhound-norwegian\n",
      "[23] Train, val, test split images from terrier-irish\n",
      "[24] Train, val, test split images from hound-afghan\n",
      "[25] Train, val, test split images from corgi-pembroke-welsh\n",
      "[26] Train, val, test split images from hound-ibizan\n",
      "[27] Train, val, test split images from collie-border\n",
      "[28] Train, val, test split images from terrier-dandie\n",
      "[29] Train, val, test split images from terrier-bedlington\n",
      "[30] Train, val, test split images from mastiff-bull\n",
      "[31] Train, val, test split images from terrier-norwich\n",
      "[32] Train, val, test split images from lhasa\n",
      "[33] Train, val, test split images from terrier-american-staffordshire\n",
      "[34] Train, val, test split images from terrier-border\n",
      "[35] Train, val, test split images from retriever-chesapeake\n",
      "[36] Train, val, test split images from terrier-silky\n",
      "[37] Train, val, test split images from boxer\n",
      "[38] Train, val, test split images from briard\n",
      "[39] Train, val, test split images from deerhound-scottish\n",
      "[40] Train, val, test split images from germanshepherd\n",
      "[41] Train, val, test split images from retriever-golden\n",
      "[42] Train, val, test split images from retriever-labrador\n",
      "[43] Train, val, test split images from retriever-flatcoated\n",
      "[44] Train, val, test split images from affenpinscher\n",
      "[45] Train, val, test split images from terrier-norfolk\n",
      "[46] Train, val, test split images from eskimo\n",
      "[47] Train, val, test split images from malinois-belgian\n",
      "[48] Train, val, test split images from setter-english\n",
      "[49] Train, val, test split images from bulldog-french\n",
      "[50] Train, val, test split images from mountain-swiss\n",
      "[51] Train, val, test split images from terrier-kerryblue\n",
      "[52] Train, val, test split images from setter-irish\n",
      "[53] Train, val, test split images from borzoi\n",
      "[54] Train, val, test split images from poodle-standard\n",
      "[55] Train, val, test split images from corgi-cardigan-welsh\n",
      "[56] Train, val, test split images from chihuahua\n",
      "[57] Train, val, test split images from spaniel-cocker\n",
      "[58] Train, val, test split images from samoyed\n",
      "[59] Train, val, test split images from sheepdog-english\n",
      "[60] Train, val, test split images from bluetick\n",
      "[61] Train, val, test split images from spaniel-irish\n",
      "[62] Train, val, test split images from shihtzu\n",
      "[63] Train, val, test split images from spaniel-brittany\n",
      "[64] Train, val, test split images from keeshond\n",
      "[65] Train, val, test split images from mastiff-tibetan\n",
      "[66] Train, val, test split images from pointer-german-shorthaired\n",
      "[67] Train, val, test split images from dane-great\n",
      "[68] Train, val, test split images from kuvasz\n",
      "[69] Train, val, test split images from pinscher-doberman\n",
      "[70] Train, val, test split images from pekingese\n",
      "[71] Train, val, test split images from komondor\n",
      "[72] Train, val, test split images from schnauzer-giant\n",
      "[73] Train, val, test split images from pug\n",
      "[74] Train, val, test split images from schnauzer-miniature\n",
      "[75] Train, val, test split images from stbernard\n",
      "[76] Train, val, test split images from setter-gordon\n",
      "[77] Train, val, test split images from bouvier\n",
      "[78] Train, val, test split images from terrier-tibetan\n",
      "[79] Train, val, test split images from coonhound\n",
      "[80] Train, val, test split images from spaniel-welsh\n",
      "[81] Train, val, test split images from terrier-sealyham\n",
      "[82] Train, val, test split images from terrier-yorkshire\n",
      "[83] Train, val, test split images from saluki\n",
      "[84] Train, val, test split images from cairn\n",
      "[85] Train, val, test split images from husky\n",
      "[86] Train, val, test split images from otterhound\n",
      "[87] Train, val, test split images from xoloitzcuintli\n",
      "[88] Train, val, test split images from spaniel-blenheim\n",
      "[89] Train, val, test split images from whippet\n",
      "[90] Train, val, test split images from pinscher-miniature\n",
      "[91] Train, val, test split images from ridgeback-rhodesian\n",
      "[92] Train, val, test split images from terrier-toy\n",
      "[93] Train, val, test split images from terrier-westhighland\n",
      "[94] Train, val, test split images from african\n",
      "[95] Train, val, test split images from terrier-american\n",
      "[96] Train, val, test split images from springer-english\n",
      "[97] Train, val, test split images from weimaraner\n",
      "[98] Train, val, test split images from terrier-scottish\n",
      "[99] Train, val, test split images from sheepdog-shetland\n",
      "[100] Train, val, test split images from hound-english\n",
      "[101] Train, val, test split images from terrier-fox\n",
      "[102] Train, val, test split images from dingo\n",
      "[103] Train, val, test split images from terrier-wheaten\n",
      "[104] Train, val, test split images from poodle-miniature\n",
      "[105] Train, val, test split images from vizsla\n",
      "[106] Train, val, test split images from schipperke\n",
      "[107] Train, val, test split images from brabancon\n",
      "[108] Train, val, test split images from hound-walker\n",
      "[109] Train, val, test split images from kelpie\n",
      "[110] Train, val, test split images from rottweiler\n",
      "[111] Train, val, test split images from spaniel-sussex\n",
      "[112] Train, val, test split images from poodle-toy\n",
      "[113] Train, val, test split images from appenzeller\n",
      "[114] Train, val, test split images from retriever-curly\n",
      "[115] Train, val, test split images from clumber\n",
      "[116] Train, val, test split images from dhole\n",
      "[117] Train, val, test split images from groenendael\n",
      "[118] Train, val, test split images from redbone\n",
      "[119] Train, val, test split images from dachshund\n",
      "[120] Train, val, test split images from cattledog-australian\n",
      "[121] Train, val, test split images from dalmatian\n",
      "[122] Train, val, test split images from akita\n",
      "[123] Train, val, test split images from terrier-bull\n",
      "[124] Train, val, test split images from charles-cavalier-king\n",
      "[125] Train, val, test split images from shepherd-australian\n",
      "[126] Train, val, test split images from sheepdog-belgian\n",
      "[127] Train, val, test split images from corso-cane\n",
      "[128] Train, val, test split images from terrier-cairn\n",
      "[129] Train, val, test split images from frise-bichon\n",
      "[130] Train, val, test split images from collie-bearded\n",
      "[131] Train, val, test split images from havanese\n",
      "[132] Train, val, test split images from spaniel-english-cocker\n",
      "[133] Train, val, test split images from bordeaux-dogue-de\n",
      "[134] Train, val, test split images from mastiff\n",
      "[135] Train, val, test split images from collie\n",
      "[136] Train, val, test split images from griffon-brussels\n",
      "[137] Train, val, test split images from greyhound\n",
      "[138] Train, val, test split images from duck-nova-scotia\n",
      "[139] Train, val, test split images from bulldog-english\n",
      "[140] Train, val, test split images from spaniel-boykin\n",
      "[141] Train, val, test split images from spaniel-english-springer\n",
      "[142] Train, val, test split images from retriever-curlycoated\n",
      "[143] Train, val, test split images from beauceron\n",
      "[144] Train, val, test split images from foxhound-american\n",
      "[145] Train, val, test split images from crested-chinese\n",
      "[146] Train, val, test split images from canaan\n",
      "[147] Train, val, test split images from shar-pei-chinese\n",
      "[148] Train, val, test split images from shepherd-anatolian\n",
      "[149] Train, val, test split images from sheepdog-icelandic\n",
      "[150] Train, val, test split images from spaniel-clumber\n",
      "[151] Train, val, test split images from pinscher-german\n",
      "[152] Train, val, test split images from tervuren-belgian\n"
     ]
    },
    {
     "name": "stdout",
     "output_type": "stream",
     "text": [
      "[153] Train, val, test split images from terrier-imaal-glen-of\n",
      "[154] Train, val, test split images from pointer-german-wirehaired\n",
      "[155] Train, val, test split images from terrier-black-russian\n",
      "[156] Train, val, test split images from spaniel-english-toy\n",
      "[157] Train, val, test split images from hound-pharaoh\n",
      "[158] Train, val, test split images from setter-irish-redwhite\n",
      "[159] Train, val, test split images from spaniel-american-water\n",
      "[160] Train, val, test split images from dog-portuguese-water\n",
      "[161] Train, val, test split images from spitz-finnish\n",
      "[162] Train, val, test split images from lowchen\n",
      "[163] Train, val, test split images from lundehund-norwegian\n",
      "[164] Train, val, test split images from spaniel-field\n",
      "[165] Train, val, test split images from pointer\n",
      "[166] Train, val, test split images from griffon-petit-basset\n",
      "[167] Train, val, test split images from mastiff-neapolitan\n",
      "[168] Train, val, test split images from terrier-parson-russell\n",
      "[169] Train, val, test split images from terrier-smooth-fox\n",
      "[170] Train, val, test split images from griffon-wirehaired-pointing\n",
      "[171] Train, val, test split images from terrier-manchester\n",
      "[172] Train, val, test split images from plott\n",
      "[173] Train, val, test split images from buhund-norwegian\n",
      "\n"
     ]
    }
   ],
   "source": [
    "### Split images into various train, test or validation folders\n",
    "\n",
    "### Prepare dataframe for recording\n",
    "targets_df = pd.DataFrame(columns=['filename', 'breed', 'folder']) \n",
    "\n",
    "### Set variables and create destination folders\n",
    "root_dir = 'images/'\n",
    "classes_dir = breed_list\n",
    "i = 1\n",
    "train_ratio = 0.80\n",
    "val_ratio = 0.00\n",
    "test_ratio = 0.20\n",
    "os.makedirs(root_dir +'train')\n",
    "os.makedirs(root_dir +'test')\n",
    "os.makedirs(root_dir +'validation')\n",
    "\n",
    "### Create folders\n",
    "for breed in breed_list:\n",
    "    os.makedirs(root_dir +'train/' + breed)\n",
    "    os.makedirs(root_dir +'test/' + breed)\n",
    "    os.makedirs(root_dir +'validation/' + breed)\n",
    "\n",
    "### Go through each breed folder\n",
    "for cls in tqdm(breed_list):\n",
    "\n",
    "    ### Print status\n",
    "    print('[' + str(i) + '] Train, val, test split images from ' + cls)\n",
    "    i += 1\n",
    "\n",
    "    ### Creating partitions of the data after shuffling\n",
    "    src = root_dir + cls + '/'\n",
    "\n",
    "    all_filenames = os.listdir(src)\n",
    "    np.random.shuffle(all_filenames)\n",
    "    train_filenames, val_filenames, test_filenames = np.split(np.array(all_filenames),\n",
    "                                                              [int(len(all_filenames) * train_ratio),int(len(all_filenames) * (train_ratio + val_ratio))])\n",
    "\n",
    "\n",
    "    train_filenames = [src+'/'+ name for name in train_filenames.tolist()]\n",
    "    val_filenames = [src+'/' + name for name in val_filenames.tolist()]\n",
    "    test_filenames = [src+'/' + name for name in test_filenames.tolist()]\n",
    "\n",
    "    ### Copy-pasting images\n",
    "    for name in train_filenames:\n",
    "\n",
    "        shutil.copy(name, root_dir +'train/' + cls )\n",
    "        split_df = split_df.append({'filename': name,\n",
    "                                'breed': cls, 'folder': 'train'}, ignore_index = True) \n",
    "    for name in val_filenames:\n",
    "\n",
    "        shutil.copy(name, root_dir +'validation/' + cls)\n",
    "        split_df = split_df.append({'filename': name,\n",
    "                                'breed': cls, 'folder': 'validation'}, ignore_index = True) \n",
    "    for name in test_filenames:\n",
    "\n",
    "        shutil.copy(name, root_dir +'test/' + cls)\n",
    "        split_df = split_df.append({'filename': name,\n",
    "                                'breed': cls, 'folder': 'test'}, ignore_index = True) "
   ]
  },
  {
   "cell_type": "code",
   "execution_count": 67,
   "metadata": {},
   "outputs": [
    {
     "data": {
      "text/html": [
       "<div>\n",
       "<style scoped>\n",
       "    .dataframe tbody tr th:only-of-type {\n",
       "        vertical-align: middle;\n",
       "    }\n",
       "\n",
       "    .dataframe tbody tr th {\n",
       "        vertical-align: top;\n",
       "    }\n",
       "\n",
       "    .dataframe thead th {\n",
       "        text-align: right;\n",
       "    }\n",
       "</style>\n",
       "<table border=\"1\" class=\"dataframe\">\n",
       "  <thead>\n",
       "    <tr style=\"text-align: right;\">\n",
       "      <th></th>\n",
       "      <th>filename</th>\n",
       "      <th>breed</th>\n",
       "      <th>folder</th>\n",
       "    </tr>\n",
       "  </thead>\n",
       "  <tbody>\n",
       "    <tr>\n",
       "      <td>28666</td>\n",
       "      <td>images/buhund-norwegian//ts3h9g5qzakx47d0b2mw.jpg</td>\n",
       "      <td>buhund-norwegian</td>\n",
       "      <td>test</td>\n",
       "    </tr>\n",
       "    <tr>\n",
       "      <td>28667</td>\n",
       "      <td>images/buhund-norwegian//vgqziy04xlwemtps2af7.jpg</td>\n",
       "      <td>buhund-norwegian</td>\n",
       "      <td>test</td>\n",
       "    </tr>\n",
       "    <tr>\n",
       "      <td>28668</td>\n",
       "      <td>images/buhund-norwegian//qp9jcxeuziwfy8371nkd.jpg</td>\n",
       "      <td>buhund-norwegian</td>\n",
       "      <td>test</td>\n",
       "    </tr>\n",
       "    <tr>\n",
       "      <td>28669</td>\n",
       "      <td>images/buhund-norwegian//e4fq0t7a92v1uy5rngh3.jpg</td>\n",
       "      <td>buhund-norwegian</td>\n",
       "      <td>test</td>\n",
       "    </tr>\n",
       "    <tr>\n",
       "      <td>28670</td>\n",
       "      <td>images/buhund-norwegian//hb9ilckv6wfjr0a35ndu.jpg</td>\n",
       "      <td>buhund-norwegian</td>\n",
       "      <td>test</td>\n",
       "    </tr>\n",
       "  </tbody>\n",
       "</table>\n",
       "</div>"
      ],
      "text/plain": [
       "                                                filename             breed  \\\n",
       "28666  images/buhund-norwegian//ts3h9g5qzakx47d0b2mw.jpg  buhund-norwegian   \n",
       "28667  images/buhund-norwegian//vgqziy04xlwemtps2af7.jpg  buhund-norwegian   \n",
       "28668  images/buhund-norwegian//qp9jcxeuziwfy8371nkd.jpg  buhund-norwegian   \n",
       "28669  images/buhund-norwegian//e4fq0t7a92v1uy5rngh3.jpg  buhund-norwegian   \n",
       "28670  images/buhund-norwegian//hb9ilckv6wfjr0a35ndu.jpg  buhund-norwegian   \n",
       "\n",
       "      folder  \n",
       "28666   test  \n",
       "28667   test  \n",
       "28668   test  \n",
       "28669   test  \n",
       "28670   test  "
      ]
     },
     "execution_count": 67,
     "metadata": {},
     "output_type": "execute_result"
    }
   ],
   "source": [
    "split_df.tail(5)"
   ]
  },
  {
   "cell_type": "code",
   "execution_count": 68,
   "metadata": {},
   "outputs": [],
   "source": [
    "split_df.to_csv('split_df.csv')"
   ]
  },
  {
   "cell_type": "markdown",
   "metadata": {},
   "source": [
    "This section also does the transferring of images to specific folders but following a different approach. This time, this transfer all files into just one folder for splitting later in the actual modeling section."
   ]
  },
  {
   "cell_type": "code",
   "execution_count": 60,
   "metadata": {},
   "outputs": [
    {
     "data": {
      "application/vnd.jupyter.widget-view+json": {
       "model_id": "cad30800027045bdb596db83876cf05c",
       "version_major": 2,
       "version_minor": 0
      },
      "text/plain": [
       "HBox(children=(IntProgress(value=0, max=50), HTML(value='')))"
      ]
     },
     "metadata": {},
     "output_type": "display_data"
    },
    {
     "name": "stdout",
     "output_type": "stream",
     "text": [
      "[1] Copy images from dane-great\n",
      "[2] Copy images from poodle-standard\n",
      "[3] Copy images from pinscher-doberman\n",
      "[4] Copy images from rottweiler\n",
      "[5] Copy images from collie-border\n",
      "[6] Copy images from terrier-boston\n",
      "[7] Copy images from pomeranian\n",
      "[8] Copy images from germanshepherd\n",
      "[9] Copy images from retriever-golden\n",
      "[10] Copy images from pointer-german-shorthaired\n",
      "[11] Copy images from ridgeback-rhodesian\n",
      "[12] Copy images from dachshund\n",
      "[13] Copy images from hound-blood\n",
      "[14] Copy images from bulldog-english\n",
      "[15] Copy images from terrier-yorkshire\n",
      "[16] Copy images from shepherd-australian\n",
      "[17] Copy images from bulldog-french\n",
      "[18] Copy images from spaniel-english-cocker\n",
      "[19] Copy images from hound-basset\n",
      "[20] Copy images from chihuahua\n",
      "[21] Copy images from spaniel-cocker\n",
      "[22] Copy images from newfoundland\n",
      "[23] Copy images from frise-bichon\n",
      "[24] Copy images from corso-cane\n",
      "[25] Copy images from pug\n",
      "[26] Copy images from havanese\n",
      "[27] Copy images from retriever-chesapeake\n",
      "[28] Copy images from schnauzer-miniature\n",
      "[29] Copy images from shihtzu\n",
      "[30] Copy images from mountain-bernese\n",
      "[31] Copy images from beagle\n",
      "[32] Copy images from vizsla\n",
      "[33] Copy images from collie\n",
      "[34] Copy images from maltese\n",
      "[35] Copy images from weimaraner\n",
      "[36] Copy images from papillon\n",
      "[37] Copy images from stbernard\n",
      "[38] Copy images from mastiff-bull\n",
      "[39] Copy images from corgi-pembroke-welsh\n",
      "[40] Copy images from akita\n",
      "[41] Copy images from sheepdog-shetland\n",
      "[42] Copy images from retriever-labrador\n",
      "[43] Copy images from husky\n",
      "[44] Copy images from terrier-westhighland\n",
      "[45] Copy images from spaniel-brittany\n",
      "[46] Copy images from spaniel-english-springer\n",
      "[47] Copy images from malinois-belgian\n",
      "[48] Copy images from boxer\n",
      "[49] Copy images from mastiff\n",
      "[50] Copy images from cattledog-australian\n",
      "\n"
     ]
    }
   ],
   "source": [
    "### Transfer all files to one folder but record changes\n",
    "\n",
    "root_dir = 'images/'\n",
    "classes_dir = breedlist\n",
    "i = 1\n",
    "targets_df = pd.DataFrame(columns=['filename', 'breed']) \n",
    "\n",
    "for cls in tqdm(breedlist):\n",
    "\n",
    "    print('[' + str(i) + '] Copy images from ' + cls)\n",
    "    i += 1\n",
    "\n",
    "    ### Creating partitions of the data after shuffling\n",
    "    src = 'images/' + cls + '/' \n",
    "\n",
    "    all_filenames = os.listdir(src)\n",
    "\n",
    "    ### Copy-pasting images\n",
    "    for name in all_filenames:\n",
    "\n",
    "        shutil.copy('images/' + cls + '/' + name, 'images/train/')\n",
    "        targets_df = targets_df.append({'filename': name,\n",
    "                                'breed': cls}, ignore_index = True) "
   ]
  },
  {
   "cell_type": "code",
   "execution_count": 61,
   "metadata": {},
   "outputs": [],
   "source": [
    "### Export to csv\n",
    "targets_df.to_csv('targets_df.csv')"
   ]
  },
  {
   "cell_type": "markdown",
   "metadata": {},
   "source": [
    "### Getting File Sizes"
   ]
  },
  {
   "cell_type": "markdown",
   "metadata": {},
   "source": [
    "This part records file sizes of all images just in case. This may be useful for finetuning our models later or for EDA."
   ]
  },
  {
   "cell_type": "code",
   "execution_count": 127,
   "metadata": {},
   "outputs": [],
   "source": [
    "### Prepares dataframe\n",
    "sizes_df = pd.DataFrame(columns=['path', \n",
    "                                'size']) \n",
    "\n",
    "### Get file sizes\n",
    "all_filenames = os.listdir('images/train/')\n",
    "for path in all_filenames:\n",
    "    size = os.path.getsize('images/train/' + path)\n",
    "    sizes_df = sizes_df.append({'path': path, 'size': size}, ignore_index = True)\n",
    "\n",
    "### Export to csv                               \n",
    "sizes_df.to_csv('sizes.csv')"
   ]
  },
  {
   "cell_type": "markdown",
   "metadata": {},
   "source": [
    "***"
   ]
  },
  {
   "cell_type": "markdown",
   "metadata": {},
   "source": [
    "## 4: Dog Characteristics"
   ]
  },
  {
   "cell_type": "markdown",
   "metadata": {},
   "source": [
    "This sections contains the process in cleaning the www.dogtime.com dog breed characteristics dataset."
   ]
  },
  {
   "cell_type": "code",
   "execution_count": 49,
   "metadata": {},
   "outputs": [],
   "source": [
    "dogs_df = pd.read_csv('dogs_df.csv', index_col=0)"
   ]
  },
  {
   "cell_type": "code",
   "execution_count": 50,
   "metadata": {},
   "outputs": [],
   "source": [
    "dogs_df.set_index('breed', inplace=True)"
   ]
  },
  {
   "cell_type": "code",
   "execution_count": 51,
   "metadata": {},
   "outputs": [
    {
     "data": {
      "text/plain": [
       "Mixed Breed Dogs    120\n",
       "Working Dogs         45\n",
       "Companion Dogs       42\n",
       "Hound Dogs           39\n",
       "Sporting Dogs        38\n",
       "Herding Dogs         33\n",
       "Terrier Dogs         30\n",
       "Hybrid Dogs          12\n",
       "Name: dog_breed_group, dtype: int64"
      ]
     },
     "execution_count": 51,
     "metadata": {},
     "output_type": "execute_result"
    }
   ],
   "source": [
    "dogs_df['dog_breed_group'].value_counts()"
   ]
  },
  {
   "cell_type": "code",
   "execution_count": 52,
   "metadata": {},
   "outputs": [
    {
     "data": {
      "text/plain": [
       "(359, 45)"
      ]
     },
     "execution_count": 52,
     "metadata": {},
     "output_type": "execute_result"
    }
   ],
   "source": [
    "dogs_df.shape"
   ]
  },
  {
   "cell_type": "markdown",
   "metadata": {},
   "source": [
    "### Removing Mixed Breeds"
   ]
  },
  {
   "cell_type": "markdown",
   "metadata": {},
   "source": [
    "Dogtime has captured characteristics of 359 dog breeds. However, we only have 173 classes in our dog breed image classifier, which will further be reduced to 50. Because the dog breed recommendations system will be attached to the image classifier, we need to retain only the characteristics of the top 50 dog breeds. In any case, I truly believe that the 50 classes already capture the most popular and common dog breeds so removing more than half of the dogtime dataset is a reasonable move.\n",
    "\n",
    "In addition, the labels of our classes do not exactly match the labels of our dogtime data. We first need to ensure that they are matched so they can be connected later on.\n",
    "\n",
    "Upon initial analysis, we can see the dogtime included mixed breed dogs in its dataset. Unfortunately, we do not have images of any mixed breed dogs. Our two sources for the photos were focused on pure breeds. We have no choice but to remove the mixed breeds from our dogtime dataset. Besides, none of the mixed breeds are in the top 50 breeds according to AKC."
   ]
  },
  {
   "cell_type": "code",
   "execution_count": 53,
   "metadata": {},
   "outputs": [],
   "source": [
    "dogs_df = dogs_df.loc[dogs_df['dog_breed_group'] != 'Mixed Breed Dogs']"
   ]
  },
  {
   "cell_type": "code",
   "execution_count": 54,
   "metadata": {},
   "outputs": [
    {
     "data": {
      "text/plain": [
       "Working Dogs      45\n",
       "Companion Dogs    42\n",
       "Hound Dogs        39\n",
       "Sporting Dogs     38\n",
       "Herding Dogs      33\n",
       "Terrier Dogs      30\n",
       "Hybrid Dogs       12\n",
       "Name: dog_breed_group, dtype: int64"
      ]
     },
     "execution_count": 54,
     "metadata": {},
     "output_type": "execute_result"
    }
   ],
   "source": [
    "dogs_df['dog_breed_group'].value_counts()"
   ]
  },
  {
   "cell_type": "code",
   "execution_count": 48,
   "metadata": {},
   "outputs": [],
   "source": [
    "dogs_df.shape\n",
    "dogs_df.to_csv('dogtime.csv')"
   ]
  },
  {
   "cell_type": "markdown",
   "metadata": {},
   "source": [
    "### Missing Values"
   ]
  },
  {
   "cell_type": "markdown",
   "metadata": {},
   "source": [
    "Now that we have removed the mixed breeds, I need to check if there are missing values that would require further handling such as imputation techniques."
   ]
  },
  {
   "cell_type": "code",
   "execution_count": 13,
   "metadata": {},
   "outputs": [
    {
     "data": {
      "image/png": "[encoded data removed]",
      "text/plain": [
       "<Figure size 1440x432 with 2 Axes>"
      ]
     },
     "metadata": {},
     "output_type": "display_data"
    }
   ],
   "source": [
    "mno.matrix(dogs_df, figsize = (20, 6))\n",
    "plt.show()"
   ]
  },
  {
   "cell_type": "markdown",
   "metadata": {},
   "source": [
    "#### Observations:\n",
    "\n",
    "It seems that there are missing values. However, before we automatically decide to impute anything, it is best to continue the pre-processing and cleaning first to see if the rows with missing values are retained. If they are, then we will need to impute."
   ]
  },
  {
   "cell_type": "markdown",
   "metadata": {},
   "source": [
    "### Renaming Labels to Match Images"
   ]
  },
  {
   "cell_type": "code",
   "execution_count": 15,
   "metadata": {},
   "outputs": [
    {
     "data": {
      "text/plain": [
       "(173, 2)"
      ]
     },
     "execution_count": 15,
     "metadata": {},
     "output_type": "execute_result"
    }
   ],
   "source": [
    "### Confirming there are 173 labels\n",
    "labels_df.shape"
   ]
  },
  {
   "cell_type": "code",
   "execution_count": 16,
   "metadata": {},
   "outputs": [],
   "source": [
    "labels = labels_df['breed']"
   ]
  },
  {
   "cell_type": "code",
   "execution_count": 21,
   "metadata": {},
   "outputs": [
    {
     "data": {
      "text/plain": [
       "['maltese',\n",
       " 'mountain-bernese',\n",
       " 'basenji',\n",
       " 'pyrenees-great',\n",
       " 'wolfhound-irish',\n",
       " 'pomeranian',\n",
       " 'chow',\n",
       " 'papillon',\n",
       " 'malamute',\n",
       " 'beagle',\n",
       " 'hound-blood',\n",
       " 'leonberg',\n",
       " 'hound-basset',\n",
       " 'terrier-airedale',\n",
       " 'terrier-boston',\n",
       " 'terrier-lakeland',\n",
       " 'newfoundland',\n",
       " 'spaniel-japanese',\n",
       " 'entlebucher',\n",
       " 'greyhound-italian',\n",
       " 'terrier-australian',\n",
       " 'elkhound-norwegian',\n",
       " 'terrier-irish',\n",
       " 'hound-afghan',\n",
       " 'corgi-pembroke-welsh',\n",
       " 'hound-ibizan',\n",
       " 'collie-border',\n",
       " 'terrier-dandie',\n",
       " 'terrier-bedlington',\n",
       " 'mastiff-bull',\n",
       " 'terrier-norwich',\n",
       " 'lhasa',\n",
       " 'terrier-american-staffordshire',\n",
       " 'terrier-border',\n",
       " 'retriever-chesapeake',\n",
       " 'terrier-silky',\n",
       " 'boxer',\n",
       " 'briard',\n",
       " 'retriever-golden',\n",
       " 'retriever-labrador',\n",
       " 'deerhound-scottish',\n",
       " 'germanshepherd',\n",
       " 'affenpinscher',\n",
       " 'retriever-flatcoated',\n",
       " 'terrier-norfolk',\n",
       " 'eskimo',\n",
       " 'malinois-belgian',\n",
       " 'setter-english',\n",
       " 'mountain-swiss',\n",
       " 'bulldog-french',\n",
       " 'setter-irish',\n",
       " 'terrier-kerryblue',\n",
       " 'poodle-standard',\n",
       " 'corgi-cardigan-welsh',\n",
       " 'borzoi',\n",
       " 'spaniel-cocker',\n",
       " 'chihuahua',\n",
       " 'samoyed',\n",
       " 'sheepdog-english',\n",
       " 'bluetick',\n",
       " 'spaniel-irish',\n",
       " 'shihtzu',\n",
       " 'spaniel-brittany',\n",
       " 'keeshond',\n",
       " 'mastiff-tibetan',\n",
       " 'pointer-german-shorthaired',\n",
       " 'dane-great',\n",
       " 'kuvasz',\n",
       " 'pinscher-doberman',\n",
       " 'schnauzer-giant',\n",
       " 'komondor',\n",
       " 'pekingese',\n",
       " 'pug',\n",
       " 'stbernard',\n",
       " 'schnauzer-miniature',\n",
       " 'setter-gordon',\n",
       " 'bouvier',\n",
       " 'terrier-tibetan',\n",
       " 'coonhound',\n",
       " 'spaniel-welsh',\n",
       " 'terrier-yorkshire',\n",
       " 'terrier-sealyham',\n",
       " 'saluki',\n",
       " 'cairn',\n",
       " 'husky',\n",
       " 'otterhound',\n",
       " 'spaniel-blenheim',\n",
       " 'xoloitzcuintli',\n",
       " 'whippet',\n",
       " 'pinscher-miniature',\n",
       " 'ridgeback-rhodesian',\n",
       " 'terrier-toy',\n",
       " 'terrier-westhighland',\n",
       " 'african',\n",
       " 'terrier-american',\n",
       " 'springer-english',\n",
       " 'weimaraner',\n",
       " 'terrier-scottish',\n",
       " 'hound-english',\n",
       " 'sheepdog-shetland',\n",
       " 'terrier-fox',\n",
       " 'dingo',\n",
       " 'terrier-wheaten',\n",
       " 'poodle-miniature',\n",
       " 'vizsla',\n",
       " 'schipperke',\n",
       " 'brabancon',\n",
       " 'hound-walker',\n",
       " 'kelpie',\n",
       " 'rottweiler',\n",
       " 'spaniel-sussex',\n",
       " 'poodle-toy',\n",
       " 'appenzeller',\n",
       " 'retriever-curly',\n",
       " 'clumber',\n",
       " 'dhole',\n",
       " 'groenendael',\n",
       " 'redbone',\n",
       " 'dachshund',\n",
       " 'cattledog-australian',\n",
       " 'dalmatian',\n",
       " 'akita',\n",
       " 'terrier-bull',\n",
       " 'charles-cavalier-king',\n",
       " 'shepherd-australian',\n",
       " 'sheepdog-belgian',\n",
       " 'corso-cane',\n",
       " 'terrier-cairn',\n",
       " 'frise-bichon',\n",
       " 'collie-bearded',\n",
       " 'havanese',\n",
       " 'spaniel-english-cocker',\n",
       " 'bordeaux-dogue-de',\n",
       " 'mastiff',\n",
       " 'collie',\n",
       " 'griffon-brussels',\n",
       " 'greyhound',\n",
       " 'duck-nova-scotia',\n",
       " 'bulldog-english',\n",
       " 'spaniel-boykin',\n",
       " 'spaniel-english-springer',\n",
       " 'retriever-curlycoated',\n",
       " 'beauceron',\n",
       " 'foxhound-american',\n",
       " 'crested-chinese',\n",
       " 'canaan',\n",
       " 'shar-pei-chinese',\n",
       " 'shepherd-anatolian',\n",
       " 'sheepdog-icelandic',\n",
       " 'spaniel-clumber',\n",
       " 'pinscher-german',\n",
       " 'tervuren-belgian',\n",
       " 'terrier-imaal-glen-of',\n",
       " 'pointer-german-wirehaired',\n",
       " 'terrier-black-russian',\n",
       " 'spaniel-english-toy',\n",
       " 'hound-pharaoh',\n",
       " 'setter-irish-redwhite',\n",
       " 'spaniel-american-water',\n",
       " 'dog-portuguese-water',\n",
       " 'spitz-finnish',\n",
       " 'lowchen',\n",
       " 'lundehund-norwegian',\n",
       " 'spaniel-field',\n",
       " 'pointer',\n",
       " 'griffon-petit-basset',\n",
       " 'mastiff-neapolitan',\n",
       " 'terrier-parson-russell',\n",
       " 'terrier-smooth-fox',\n",
       " 'griffon-wirehaired-pointing',\n",
       " 'terrier-manchester',\n",
       " 'plott',\n",
       " 'buhund-norwegian']"
      ]
     },
     "execution_count": 21,
     "metadata": {},
     "output_type": "execute_result"
    }
   ],
   "source": [
    "#labels = labels.to_list()\n",
    "labels"
   ]
  },
  {
   "cell_type": "code",
   "execution_count": 25,
   "metadata": {},
   "outputs": [
    {
     "data": {
      "text/plain": [
       "['affenpinscher',\n",
       " 'african',\n",
       " 'akita',\n",
       " 'appenzeller',\n",
       " 'basenji',\n",
       " 'beagle',\n",
       " 'beauceron',\n",
       " 'bluetick',\n",
       " 'bordeaux-dogue-de',\n",
       " 'borzoi',\n",
       " 'bouvier',\n",
       " 'boxer',\n",
       " 'brabancon',\n",
       " 'briard',\n",
       " 'buhund-norwegian',\n",
       " 'bulldog-english',\n",
       " 'bulldog-french',\n",
       " 'cairn',\n",
       " 'canaan',\n",
       " 'cattledog-australian',\n",
       " 'charles-cavalier-king',\n",
       " 'chihuahua',\n",
       " 'chow',\n",
       " 'clumber',\n",
       " 'collie',\n",
       " 'collie-bearded',\n",
       " 'collie-border',\n",
       " 'coonhound',\n",
       " 'corgi-cardigan-welsh',\n",
       " 'corgi-pembroke-welsh',\n",
       " 'corso-cane',\n",
       " 'crested-chinese',\n",
       " 'dachshund',\n",
       " 'dalmatian',\n",
       " 'dane-great',\n",
       " 'deerhound-scottish',\n",
       " 'dhole',\n",
       " 'dingo',\n",
       " 'dog-portuguese-water',\n",
       " 'duck-nova-scotia',\n",
       " 'elkhound-norwegian',\n",
       " 'entlebucher',\n",
       " 'eskimo',\n",
       " 'foxhound-american',\n",
       " 'frise-bichon',\n",
       " 'germanshepherd',\n",
       " 'greyhound',\n",
       " 'greyhound-italian',\n",
       " 'griffon-brussels',\n",
       " 'griffon-petit-basset',\n",
       " 'griffon-wirehaired-pointing',\n",
       " 'groenendael',\n",
       " 'havanese',\n",
       " 'hound-afghan',\n",
       " 'hound-basset',\n",
       " 'hound-blood',\n",
       " 'hound-english',\n",
       " 'hound-ibizan',\n",
       " 'hound-pharaoh',\n",
       " 'hound-walker',\n",
       " 'husky',\n",
       " 'keeshond',\n",
       " 'kelpie',\n",
       " 'komondor',\n",
       " 'kuvasz',\n",
       " 'leonberg',\n",
       " 'lhasa',\n",
       " 'lowchen',\n",
       " 'lundehund-norwegian',\n",
       " 'malamute',\n",
       " 'malinois-belgian',\n",
       " 'maltese',\n",
       " 'mastiff',\n",
       " 'mastiff-bull',\n",
       " 'mastiff-neapolitan',\n",
       " 'mastiff-tibetan',\n",
       " 'mountain-bernese',\n",
       " 'mountain-swiss',\n",
       " 'newfoundland',\n",
       " 'otterhound',\n",
       " 'papillon',\n",
       " 'pekingese',\n",
       " 'pinscher-doberman',\n",
       " 'pinscher-german',\n",
       " 'pinscher-miniature',\n",
       " 'plott',\n",
       " 'pointer',\n",
       " 'pointer-german-shorthaired',\n",
       " 'pointer-german-wirehaired',\n",
       " 'pomeranian',\n",
       " 'poodle-miniature',\n",
       " 'poodle-standard',\n",
       " 'poodle-toy',\n",
       " 'pug',\n",
       " 'pyrenees-great',\n",
       " 'redbone',\n",
       " 'retriever-chesapeake',\n",
       " 'retriever-curly',\n",
       " 'retriever-curlycoated',\n",
       " 'retriever-flatcoated',\n",
       " 'retriever-golden',\n",
       " 'retriever-labrador',\n",
       " 'ridgeback-rhodesian',\n",
       " 'rottweiler',\n",
       " 'saluki',\n",
       " 'samoyed',\n",
       " 'schipperke',\n",
       " 'schnauzer-giant',\n",
       " 'schnauzer-miniature',\n",
       " 'setter-english',\n",
       " 'setter-gordon',\n",
       " 'setter-irish',\n",
       " 'setter-irish-redwhite',\n",
       " 'shar-pei-chinese',\n",
       " 'sheepdog-belgian',\n",
       " 'sheepdog-english',\n",
       " 'sheepdog-icelandic',\n",
       " 'sheepdog-shetland',\n",
       " 'shepherd-anatolian',\n",
       " 'shepherd-australian',\n",
       " 'shihtzu',\n",
       " 'spaniel-american-water',\n",
       " 'spaniel-blenheim',\n",
       " 'spaniel-boykin',\n",
       " 'spaniel-brittany',\n",
       " 'spaniel-clumber',\n",
       " 'spaniel-cocker',\n",
       " 'spaniel-english-cocker',\n",
       " 'spaniel-english-springer',\n",
       " 'spaniel-english-toy',\n",
       " 'spaniel-field',\n",
       " 'spaniel-irish',\n",
       " 'spaniel-japanese',\n",
       " 'spaniel-sussex',\n",
       " 'spaniel-welsh',\n",
       " 'spitz-finnish',\n",
       " 'springer-english',\n",
       " 'stbernard',\n",
       " 'terrier-airedale',\n",
       " 'terrier-american',\n",
       " 'terrier-american-staffordshire',\n",
       " 'terrier-australian',\n",
       " 'terrier-bedlington',\n",
       " 'terrier-black-russian',\n",
       " 'terrier-border',\n",
       " 'terrier-boston',\n",
       " 'terrier-bull',\n",
       " 'terrier-cairn',\n",
       " 'terrier-dandie',\n",
       " 'terrier-fox',\n",
       " 'terrier-imaal-glen-of',\n",
       " 'terrier-irish',\n",
       " 'terrier-kerryblue',\n",
       " 'terrier-lakeland',\n",
       " 'terrier-manchester',\n",
       " 'terrier-norfolk',\n",
       " 'terrier-norwich',\n",
       " 'terrier-parson-russell',\n",
       " 'terrier-scottish',\n",
       " 'terrier-sealyham',\n",
       " 'terrier-silky',\n",
       " 'terrier-smooth-fox',\n",
       " 'terrier-tibetan',\n",
       " 'terrier-toy',\n",
       " 'terrier-westhighland',\n",
       " 'terrier-wheaten',\n",
       " 'terrier-yorkshire',\n",
       " 'tervuren-belgian',\n",
       " 'vizsla',\n",
       " 'weimaraner',\n",
       " 'whippet',\n",
       " 'wolfhound-irish',\n",
       " 'xoloitzcuintli']"
      ]
     },
     "execution_count": 25,
     "metadata": {},
     "output_type": "execute_result"
    }
   ],
   "source": [
    "### Sort alphabetically\n",
    "labels = sorted(labels)\n",
    "labels"
   ]
  },
  {
   "cell_type": "code",
   "execution_count": 28,
   "metadata": {},
   "outputs": [],
   "source": [
    "dogtime_list = dogs_df['breed']"
   ]
  },
  {
   "cell_type": "code",
   "execution_count": 29,
   "metadata": {},
   "outputs": [
    {
     "data": {
      "text/plain": [
       "['afador',\n",
       " 'affenhuahua',\n",
       " 'affenpinscher',\n",
       " 'afghan-hound',\n",
       " 'airedale-terrier',\n",
       " 'akbash',\n",
       " 'akita',\n",
       " 'akita-chow',\n",
       " 'akita-pit',\n",
       " 'akita-shepherd',\n",
       " 'alaskan-klee-kai',\n",
       " 'alaskan-malamute',\n",
       " 'american-bulldog',\n",
       " 'american-english-coonhound',\n",
       " 'american-eskimo-dog',\n",
       " 'american-foxhound',\n",
       " 'american-hairless-terrier',\n",
       " 'american-leopard-hound',\n",
       " 'american-pit-bull-terrier',\n",
       " 'american-pugabull',\n",
       " 'american-staffordshire-terrier',\n",
       " 'american-water-spaniel',\n",
       " 'anatolian-shepherd-dog',\n",
       " 'appenzeller-sennenhunde',\n",
       " 'auggie',\n",
       " 'aussiedoodle',\n",
       " 'aussiepom',\n",
       " 'australian-cattle-dog',\n",
       " 'australian-kelpie',\n",
       " 'australian-retriever',\n",
       " 'australian-shepherd',\n",
       " 'australian-shepherd-husky',\n",
       " 'australian-shepherd-lab-mix',\n",
       " 'australian-shepherd-pit-bull-mix',\n",
       " 'australian-terrier',\n",
       " 'azawakh',\n",
       " 'barbet',\n",
       " 'basenji',\n",
       " 'bassador',\n",
       " 'basset-fauve-de-bretagne',\n",
       " 'basset-hound',\n",
       " 'basset-retriever',\n",
       " 'bavarian-mountain-scent-hound',\n",
       " 'beabull',\n",
       " 'beagle',\n",
       " 'beaglier',\n",
       " 'bearded-collie',\n",
       " 'bedlington-terrier',\n",
       " 'belgian-malinois',\n",
       " 'belgian-sheepdog',\n",
       " 'belgian-tervuren',\n",
       " 'berger-picard',\n",
       " 'bernedoodle',\n",
       " 'bernese-mountain-dog',\n",
       " 'bichon-frise',\n",
       " 'biewer-terrier',\n",
       " 'black-and-tan-coonhound',\n",
       " 'black-mouth-cur',\n",
       " 'black-russian-terrier',\n",
       " 'bloodhound',\n",
       " 'blue-lacy',\n",
       " 'bluetick-coonhound',\n",
       " 'bocker',\n",
       " 'boerboel',\n",
       " 'boglen-terrier',\n",
       " 'bohemian-shepherd',\n",
       " 'bolognese',\n",
       " 'borador',\n",
       " 'border-collie',\n",
       " 'border-sheepdog',\n",
       " 'border-terrier',\n",
       " 'bordoodle',\n",
       " 'borzoi',\n",
       " 'boshih',\n",
       " 'bossie',\n",
       " 'boston-boxer',\n",
       " 'boston-terrier',\n",
       " 'bouvier-des-flandres',\n",
       " 'boxador',\n",
       " 'boxer',\n",
       " 'boxerdoodle',\n",
       " 'boxmatian',\n",
       " 'boxweiler',\n",
       " 'boykin-spaniel',\n",
       " 'bracco-italiano',\n",
       " 'braque-du-bourbonnais',\n",
       " 'briard',\n",
       " 'brittany',\n",
       " 'broholmer',\n",
       " 'brussels-griffon',\n",
       " 'bugg',\n",
       " 'bull-pei',\n",
       " 'bull-terrier',\n",
       " 'bullador',\n",
       " 'bullboxer-pit',\n",
       " 'bulldog',\n",
       " 'bullmastiff',\n",
       " 'bullmatian',\n",
       " 'cairn-terrier',\n",
       " 'canaan-dog',\n",
       " 'cane-corso',\n",
       " 'cardigan-welsh-corgi',\n",
       " 'carolina-dog',\n",
       " 'catahoula-bulldog',\n",
       " 'catahoula-leopard-dog',\n",
       " 'caucasian-shepherd-dog',\n",
       " 'cav-a-jack',\n",
       " 'cavachon',\n",
       " 'cavador',\n",
       " 'cavalier-king-charles-spaniel',\n",
       " 'cavapoo',\n",
       " 'cesky-terrier',\n",
       " 'chabrador',\n",
       " 'cheagle',\n",
       " 'chesapeake-bay-retriever',\n",
       " 'chi-chi',\n",
       " 'chi-poo',\n",
       " 'chigi',\n",
       " 'chihuahua',\n",
       " 'chilier',\n",
       " 'chinese-crested',\n",
       " 'chinese-shar-pei',\n",
       " 'chinook',\n",
       " 'chion',\n",
       " 'chipin',\n",
       " 'chiweenie',\n",
       " 'chorkie',\n",
       " 'chow-chow',\n",
       " 'chow-shepherd',\n",
       " 'chug',\n",
       " 'chusky',\n",
       " 'cirneco-delletna',\n",
       " 'clumber-spaniel',\n",
       " 'cockalier',\n",
       " 'cockapoo',\n",
       " 'cocker-spaniel',\n",
       " 'collie',\n",
       " 'corgi-inu',\n",
       " 'corgidor',\n",
       " 'corman-shepherd',\n",
       " 'coton-de-tulear',\n",
       " 'curly-coated-retriever',\n",
       " 'dachsador',\n",
       " 'dachshund',\n",
       " 'dalmatian',\n",
       " 'dandie-dinmont-terrier',\n",
       " 'daniff',\n",
       " 'deutscher-wachtelhund',\n",
       " 'doberdor',\n",
       " 'doberman-pinscher',\n",
       " 'docker',\n",
       " 'dogo-argentino',\n",
       " 'dogue-de-bordeaux',\n",
       " 'dorgi',\n",
       " 'dorkie',\n",
       " 'doxle',\n",
       " 'drentsche-patrijshond',\n",
       " 'drever',\n",
       " 'dutch-shepherd',\n",
       " 'english-cocker-spaniel',\n",
       " 'english-foxhound',\n",
       " 'english-setter',\n",
       " 'english-springer-spaniel',\n",
       " 'english-toy-spaniel',\n",
       " 'entlebucher-mountain-dog',\n",
       " 'estrela-mountain-dog',\n",
       " 'eurasier',\n",
       " 'field-spaniel',\n",
       " 'finnish-lapphund',\n",
       " 'finnish-spitz',\n",
       " 'flat-coated-retriever',\n",
       " 'fox-terrier',\n",
       " 'french-bulldog',\n",
       " 'french-bullhuahua',\n",
       " 'french-spaniel',\n",
       " 'frenchton',\n",
       " 'frengle',\n",
       " 'german-pinscher',\n",
       " 'german-shepherd-dog',\n",
       " 'german-shepherd-pit-bull',\n",
       " 'german-shepherd-rottweiler-mix',\n",
       " 'german-sheprador',\n",
       " 'german-shorthaired-pointer',\n",
       " 'german-spitz',\n",
       " 'german-wirehaired-pointer',\n",
       " 'giant-schnauzer',\n",
       " 'glen-of-imaal-terrier',\n",
       " 'goberian',\n",
       " 'goldador',\n",
       " 'golden-cocker-retriever',\n",
       " 'golden-mountain-dog',\n",
       " 'golden-retriever',\n",
       " 'golden-retriever-corgi',\n",
       " 'golden-shepherd',\n",
       " 'goldendoodle',\n",
       " 'gollie',\n",
       " 'gordon-setter',\n",
       " 'great-dane',\n",
       " 'great-pyrenees',\n",
       " 'greater-swiss-mountain-dog',\n",
       " 'greyador',\n",
       " 'greyhound',\n",
       " 'hamiltonstovare',\n",
       " 'hanoverian-scenthound',\n",
       " 'harrier',\n",
       " 'havanese',\n",
       " 'hokkaido',\n",
       " 'horgi',\n",
       " 'huskita',\n",
       " 'huskydoodle',\n",
       " 'ibizan-hound',\n",
       " 'icelandic-sheepdog',\n",
       " 'irish-red-and-white-setter',\n",
       " 'irish-setter',\n",
       " 'irish-terrier',\n",
       " 'irish-water-spaniel',\n",
       " 'irish-wolfhound',\n",
       " 'italian-greyhound',\n",
       " 'jack-a-poo',\n",
       " 'jack-chi',\n",
       " 'jack-russell-terrier',\n",
       " 'jackshund',\n",
       " 'japanese-chin',\n",
       " 'japanese-spitz',\n",
       " 'karelian-bear-dog',\n",
       " 'keeshond',\n",
       " 'kerry-blue-terrier',\n",
       " 'king-shepherd',\n",
       " 'komondor',\n",
       " 'kooikerhondje',\n",
       " 'kuvasz',\n",
       " 'kyi-leo',\n",
       " 'lab-pointer',\n",
       " 'labernese',\n",
       " 'labmaraner',\n",
       " 'labrabull',\n",
       " 'labradane',\n",
       " 'labradoodle',\n",
       " 'labrador-retriever',\n",
       " 'labrastaff',\n",
       " 'labsky',\n",
       " 'lagotto-romagnolo',\n",
       " 'lakeland-terrier',\n",
       " 'lancashire-heeler',\n",
       " 'leonberger',\n",
       " 'lhasa-apso',\n",
       " 'lhasapoo',\n",
       " 'lowchen',\n",
       " 'maltese',\n",
       " 'maltese-shih-tzu',\n",
       " 'maltipoo',\n",
       " 'manchester-terrier',\n",
       " 'mastador',\n",
       " 'mastiff',\n",
       " 'miniature-pinscher',\n",
       " 'miniature-schnauzer',\n",
       " 'morkie',\n",
       " 'mudi',\n",
       " 'mutt',\n",
       " 'neapolitan-mastiff',\n",
       " 'newfoundland',\n",
       " 'norfolk-terrier',\n",
       " 'norwegian-buhund',\n",
       " 'norwegian-elkhound',\n",
       " 'norwegian-lundehund',\n",
       " 'norwich-terrier',\n",
       " 'nova-scotia-duck-tolling-retriever',\n",
       " 'old-english-sheepdog',\n",
       " 'otterhound',\n",
       " 'papillon',\n",
       " 'papipoo',\n",
       " 'peekapoo',\n",
       " 'pekingese',\n",
       " 'pembroke-welsh-corgi',\n",
       " 'petit-basset-griffon-vendeen',\n",
       " 'pharaoh-hound',\n",
       " 'pitsky',\n",
       " 'plott',\n",
       " 'pocket-beagle',\n",
       " 'pointer',\n",
       " 'polish-lowland-sheepdog',\n",
       " 'pomapoo',\n",
       " 'pomchi',\n",
       " 'pomeagle',\n",
       " 'pomeranian',\n",
       " 'pomsky',\n",
       " 'poochon',\n",
       " 'poodle',\n",
       " 'portuguese-podengo-pequeno',\n",
       " 'portuguese-water-dog',\n",
       " 'pug',\n",
       " 'pugalier',\n",
       " 'puggle',\n",
       " 'puli',\n",
       " 'pyredoodle',\n",
       " 'pyrenean-shepherd',\n",
       " 'rat-terrier',\n",
       " 'redbone-coonhound',\n",
       " 'rhodesian-ridgeback',\n",
       " 'rottador',\n",
       " 'rottle',\n",
       " 'rottweiler',\n",
       " 'saint-berdoodle',\n",
       " 'saint-bernard',\n",
       " 'saluki',\n",
       " 'samoyed',\n",
       " 'samusky',\n",
       " 'schipperke',\n",
       " 'schnoodle',\n",
       " 'scottish-deerhound',\n",
       " 'scottish-terrier',\n",
       " 'sealyham-terrier',\n",
       " 'sheepadoodle',\n",
       " 'shepsky',\n",
       " 'shetland-sheepdog',\n",
       " 'shiba-inu',\n",
       " 'shichon',\n",
       " 'shih-poo',\n",
       " 'shih-tzu',\n",
       " 'shiloh-shepherd',\n",
       " 'shiranian',\n",
       " 'shollie',\n",
       " 'shorkie',\n",
       " 'siberian-husky',\n",
       " 'silken-windhound',\n",
       " 'silky-terrier',\n",
       " 'skye-terrier',\n",
       " 'sloughi',\n",
       " 'small-munsterlander-pointer',\n",
       " 'soft-coated-wheaten-terrier',\n",
       " 'spanish-mastiff',\n",
       " 'spinone-italiano',\n",
       " 'springador',\n",
       " 'stabyhoun',\n",
       " 'staffordshire-bull-terrier',\n",
       " 'standard-schnauzer',\n",
       " 'sussex-spaniel',\n",
       " 'swedish-vallhund',\n",
       " 'terripoo',\n",
       " 'texas-heeler',\n",
       " 'tibetan-mastiff',\n",
       " 'tibetan-spaniel',\n",
       " 'tibetan-terrier',\n",
       " 'toy-fox-terrier',\n",
       " 'treeing-tennessee-brindle',\n",
       " 'treeing-walker-coonhound',\n",
       " 'valley-bulldog',\n",
       " 'vizsla',\n",
       " 'weimaraner',\n",
       " 'welsh-springer-spaniel',\n",
       " 'welsh-terrier',\n",
       " 'west-highland-white-terrier',\n",
       " 'westiepoo',\n",
       " 'whippet',\n",
       " 'whoodle',\n",
       " 'wirehaired-pointing-griffon',\n",
       " 'xoloitzuintli',\n",
       " 'yorkipoo',\n",
       " 'yorkshire-terrier']"
      ]
     },
     "execution_count": 29,
     "metadata": {},
     "output_type": "execute_result"
    }
   ],
   "source": [
    "dogtime_list.to_list()"
   ]
  },
  {
   "cell_type": "code",
   "execution_count": 33,
   "metadata": {},
   "outputs": [],
   "source": [
    "dogtime_breeds = []\n",
    "\n",
    "for dog in dogtime_list:\n",
    "    if len(dog.split('-')) == 1:\n",
    "        dogtime_breeds.append(dog)\n",
    "    elif len(dog.split('-')) == 2:\n",
    "        dog == dog.split('-')[1] + '-' + dog.split('-')[0]\n",
    "        dogtime_breeds.append(dog)\n",
    "    elif len(dog.split('-')) == 3:\n",
    "        dog == dog.split('-')[2] + '-' + dog.split('-')[0]  + '-' + dog.split('-')[1]\n",
    "        dogtime_breeds.append(dog)\n",
    "    elif len(dog.split('-')) == 4:\n",
    "        dog == dog.split('-')[3] + '-' + dog.split('-')[0]  + '-' + dog.split('-')[1]  + '-' + dog.split('-')[2]\n",
    "        dogtime_breeds.append(dog)\n",
    "    elif len(dog.split('-')) == 5:\n",
    "        dog == dog.split('-')[4] + '-' + dog.split('-')[0]  + '-' + dog.split('-')[1]  + '-' + dog.split('-')[2] + '-' + dog.split('-')[3]\n",
    "        dogtime_breeds.append(dog)\n",
    "    else:\n",
    "        print(\"There is longer\")"
   ]
  },
  {
   "cell_type": "code",
   "execution_count": 36,
   "metadata": {},
   "outputs": [
    {
     "data": {
      "text/plain": [
       "'terrier'"
      ]
     },
     "execution_count": 36,
     "metadata": {},
     "output_type": "execute_result"
    }
   ],
   "source": [
    "dog.split('-')[1]"
   ]
  },
  {
   "cell_type": "markdown",
   "metadata": {},
   "source": [
    "### Top 50 Breeds"
   ]
  },
  {
   "cell_type": "markdown",
   "metadata": {},
   "source": [
    "It was finalized that this project will retain only the top 50 breeds according to the American Kennel Club. This is a good source because they measure the actual number of registrations per breed each year, providing us with a reliable indicator of breed popularity. Remember that this project deals with the rise of dogs ownership, so it is better to focus our project on the top breeds."
   ]
  },
  {
   "cell_type": "markdown",
   "metadata": {},
   "source": [
    "The top breeds according to AKC are as follows in alphabetical order."
   ]
  },
  {
   "cell_type": "code",
   "execution_count": 3,
   "metadata": {},
   "outputs": [],
   "source": [
    "top_breeds = pd.read_csv(\"unique_breeds.csv\", index_col=0)"
   ]
  },
  {
   "cell_type": "code",
   "execution_count": 4,
   "metadata": {},
   "outputs": [
    {
     "data": {
      "text/plain": [
       "0                          akita\n",
       "1                         beagle\n",
       "2                          boxer\n",
       "3                bulldog-english\n",
       "4                 bulldog-french\n",
       "5           cattledog-australian\n",
       "6                      chihuahua\n",
       "7                         collie\n",
       "8                  collie-border\n",
       "9           corgi-pembroke-welsh\n",
       "10                    corso-cane\n",
       "11                     dachshund\n",
       "12                    dane-great\n",
       "13                  frise-bichon\n",
       "14                germanshepherd\n",
       "15                      havanese\n",
       "16                  hound-basset\n",
       "17                   hound-blood\n",
       "18                         husky\n",
       "19              malinois-belgian\n",
       "20                       maltese\n",
       "21                       mastiff\n",
       "22                  mastiff-bull\n",
       "23              mountain-bernese\n",
       "24                  newfoundland\n",
       "25                      papillon\n",
       "26             pinscher-doberman\n",
       "27    pointer-german-shorthaired\n",
       "28                    pomeranian\n",
       "29               poodle-standard\n",
       "30                           pug\n",
       "31          retriever-chesapeake\n",
       "32              retriever-golden\n",
       "33            retriever-labrador\n",
       "34           ridgeback-rhodesian\n",
       "35                    rottweiler\n",
       "36           schnauzer-miniature\n",
       "37             sheepdog-shetland\n",
       "38           shepherd-australian\n",
       "39                       shihtzu\n",
       "40              spaniel-brittany\n",
       "41                spaniel-cocker\n",
       "42        spaniel-english-cocker\n",
       "43      spaniel-english-springer\n",
       "44                     stbernard\n",
       "45                terrier-boston\n",
       "46          terrier-westhighland\n",
       "47             terrier-yorkshire\n",
       "48                        vizsla\n",
       "49                    weimaraner\n",
       "Name: 0, dtype: object"
      ]
     },
     "execution_count": 4,
     "metadata": {},
     "output_type": "execute_result"
    }
   ],
   "source": [
    "### List Top 50 breeds\n",
    "top_breeds['0']"
   ]
  },
  {
   "cell_type": "code",
   "execution_count": 91,
   "metadata": {},
   "outputs": [
    {
     "data": {
      "text/plain": [
       "50"
      ]
     },
     "execution_count": 91,
     "metadata": {},
     "output_type": "execute_result"
    }
   ],
   "source": [
    "### Ensure count of breeds\n",
    "len(top_breeds)"
   ]
  },
  {
   "cell_type": "code",
   "execution_count": 92,
   "metadata": {},
   "outputs": [],
   "source": [
    "#top_breeds = top_breeds.values\n",
    "top_breeds = top_breeds['0']\n",
    "\n",
    "#top_breeds = [item for sublist in top_breeds for item in sublist]"
   ]
  },
  {
   "cell_type": "code",
   "execution_count": 98,
   "metadata": {},
   "outputs": [],
   "source": [
    "top_breeds = top_breeds.tolist()"
   ]
  },
  {
   "cell_type": "code",
   "execution_count": 61,
   "metadata": {},
   "outputs": [
    {
     "data": {
      "text/html": [
       "<div>\n",
       "<style scoped>\n",
       "    .dataframe tbody tr th:only-of-type {\n",
       "        vertical-align: middle;\n",
       "    }\n",
       "\n",
       "    .dataframe tbody tr th {\n",
       "        vertical-align: top;\n",
       "    }\n",
       "\n",
       "    .dataframe thead th {\n",
       "        text-align: right;\n",
       "    }\n",
       "</style>\n",
       "<table border=\"1\" class=\"dataframe\">\n",
       "  <thead>\n",
       "    <tr style=\"text-align: right;\">\n",
       "      <th></th>\n",
       "      <th>index</th>\n",
       "      <th>breed</th>\n",
       "      <th>adaptability</th>\n",
       "      <th>adapts_well_to_apartment_living</th>\n",
       "      <th>good_for_novice_owners</th>\n",
       "      <th>sensitivity_level</th>\n",
       "      <th>tolerates_being_alone</th>\n",
       "      <th>tolerates_cold_weather</th>\n",
       "      <th>tolerates_hot_weather</th>\n",
       "      <th>all_around_friendliness</th>\n",
       "      <th>...</th>\n",
       "      <th>highlights</th>\n",
       "      <th>size_description</th>\n",
       "      <th>personality</th>\n",
       "      <th>health</th>\n",
       "      <th>care</th>\n",
       "      <th>feeding</th>\n",
       "      <th>coat_color_and_grooming</th>\n",
       "      <th>children_and_other_pets</th>\n",
       "      <th>rescue_groups</th>\n",
       "      <th>breed_organizations</th>\n",
       "    </tr>\n",
       "  </thead>\n",
       "  <tbody>\n",
       "    <tr>\n",
       "      <td>0</td>\n",
       "      <td>0</td>\n",
       "      <td>affenpinscher</td>\n",
       "      <td>3</td>\n",
       "      <td>5</td>\n",
       "      <td>4</td>\n",
       "      <td>3</td>\n",
       "      <td>1</td>\n",
       "      <td>3</td>\n",
       "      <td>3</td>\n",
       "      <td>3</td>\n",
       "      <td>...</td>\n",
       "      <td>Like many toy dog breeds, the Affenpinscher ca...</td>\n",
       "      <td>Affenpinschers are 9.5 to 11.5 inches tall and...</td>\n",
       "      <td>The Affen is affectionate and curious, always ...</td>\n",
       "      <td>Affenpinschers are generally healthy, but like...</td>\n",
       "      <td>The Affenpinscher is an ideal dog for apartmen...</td>\n",
       "      <td>Recommended daily amount: 1/4 to 1/2 cup of hi...</td>\n",
       "      <td>Shaggy but neat describes the Affenpinscher's ...</td>\n",
       "      <td>Affenpinschers don't like aggressive behavior ...</td>\n",
       "      <td>Affenpinschers are sometimes bought without an...</td>\n",
       "      <td>Below are breed clubs, organizations, and asso...</td>\n",
       "    </tr>\n",
       "    <tr>\n",
       "      <td>1</td>\n",
       "      <td>1</td>\n",
       "      <td>afghan-hound</td>\n",
       "      <td>4</td>\n",
       "      <td>5</td>\n",
       "      <td>3</td>\n",
       "      <td>5</td>\n",
       "      <td>2</td>\n",
       "      <td>5</td>\n",
       "      <td>5</td>\n",
       "      <td>4</td>\n",
       "      <td>...</td>\n",
       "      <td>Grooming is essential. Only those who really e...</td>\n",
       "      <td>Males are 27 inches (plus or minus one inch) a...</td>\n",
       "      <td>The Afghan Hound is typically a one-person or ...</td>\n",
       "      <td>Afghans are generally healthy, but like all br...</td>\n",
       "      <td>Afghan Hounds prefer being inside with family....</td>\n",
       "      <td>Recommended daily amount: 2 to 2.5 cups of hig...</td>\n",
       "      <td>Properly groomed, the Afghan coat is spectacul...</td>\n",
       "      <td>The Afghan's independent nature and large size...</td>\n",
       "      <td>Afghans are often purchased without any clear ...</td>\n",
       "      <td>Below are breed clubs, organizations, and asso...</td>\n",
       "    </tr>\n",
       "    <tr>\n",
       "      <td>2</td>\n",
       "      <td>2</td>\n",
       "      <td>airedale-terrier</td>\n",
       "      <td>2</td>\n",
       "      <td>1</td>\n",
       "      <td>2</td>\n",
       "      <td>3</td>\n",
       "      <td>2</td>\n",
       "      <td>3</td>\n",
       "      <td>3</td>\n",
       "      <td>4</td>\n",
       "      <td>...</td>\n",
       "      <td>Like all Terriers, Airedales have a natural in...</td>\n",
       "      <td>Males stand 23 inches tall, and weigh about 50...</td>\n",
       "      <td>The Airedale is a hard-working, independent, a...</td>\n",
       "      <td>Airedales are generally healthy, but like all ...</td>\n",
       "      <td>The Airedale Terrier is a working dog, and has...</td>\n",
       "      <td>Recommended daily amount: 1.5 to 2.5 cups of h...</td>\n",
       "      <td>The handsome coat of the Airedale Terrier has ...</td>\n",
       "      <td>The fun-loving Airedale makes a good family pe...</td>\n",
       "      <td>Airedales are often purchased without any clea...</td>\n",
       "      <td>Below are breed clubs, organizations, and asso...</td>\n",
       "    </tr>\n",
       "    <tr>\n",
       "      <td>3</td>\n",
       "      <td>3</td>\n",
       "      <td>akbash</td>\n",
       "      <td>3</td>\n",
       "      <td>1</td>\n",
       "      <td>2</td>\n",
       "      <td>3</td>\n",
       "      <td>4</td>\n",
       "      <td>4</td>\n",
       "      <td>2</td>\n",
       "      <td>4</td>\n",
       "      <td>...</td>\n",
       "      <td>Akbash coats are only white. These dogs were b...</td>\n",
       "      <td>As the Akbash is a relatively pure breed, ther...</td>\n",
       "      <td>The Akbash is a gentle dog who is very protect...</td>\n",
       "      <td>The Akbash breed is predisposed to some of the...</td>\n",
       "      <td>As with all dogs, you should keep up with your...</td>\n",
       "      <td>An ideal Akbash diet should be formulated for ...</td>\n",
       "      <td>Akbash coats are only white. These beautiful p...</td>\n",
       "      <td>Because the Akbash is a large dog, they can ea...</td>\n",
       "      <td>Because the Akbash is a somewhat rare breed, i...</td>\n",
       "      <td>Not available</td>\n",
       "    </tr>\n",
       "  </tbody>\n",
       "</table>\n",
       "<p>4 rows × 47 columns</p>\n",
       "</div>"
      ],
      "text/plain": [
       "   index             breed  adaptability  adapts_well_to_apartment_living  \\\n",
       "0      0     affenpinscher             3                                5   \n",
       "1      1      afghan-hound             4                                5   \n",
       "2      2  airedale-terrier             2                                1   \n",
       "3      3            akbash             3                                1   \n",
       "\n",
       "   good_for_novice_owners  sensitivity_level  tolerates_being_alone  \\\n",
       "0                       4                  3                      1   \n",
       "1                       3                  5                      2   \n",
       "2                       2                  3                      2   \n",
       "3                       2                  3                      4   \n",
       "\n",
       "   tolerates_cold_weather  tolerates_hot_weather  all_around_friendliness  \\\n",
       "0                       3                      3                        3   \n",
       "1                       5                      5                        4   \n",
       "2                       3                      3                        4   \n",
       "3                       4                      2                        4   \n",
       "\n",
       "   ...                                         highlights  \\\n",
       "0  ...  Like many toy dog breeds, the Affenpinscher ca...   \n",
       "1  ...  Grooming is essential. Only those who really e...   \n",
       "2  ...  Like all Terriers, Airedales have a natural in...   \n",
       "3  ...  Akbash coats are only white. These dogs were b...   \n",
       "\n",
       "                                    size_description  \\\n",
       "0  Affenpinschers are 9.5 to 11.5 inches tall and...   \n",
       "1  Males are 27 inches (plus or minus one inch) a...   \n",
       "2  Males stand 23 inches tall, and weigh about 50...   \n",
       "3  As the Akbash is a relatively pure breed, ther...   \n",
       "\n",
       "                                         personality  \\\n",
       "0  The Affen is affectionate and curious, always ...   \n",
       "1  The Afghan Hound is typically a one-person or ...   \n",
       "2  The Airedale is a hard-working, independent, a...   \n",
       "3  The Akbash is a gentle dog who is very protect...   \n",
       "\n",
       "                                              health  \\\n",
       "0  Affenpinschers are generally healthy, but like...   \n",
       "1  Afghans are generally healthy, but like all br...   \n",
       "2  Airedales are generally healthy, but like all ...   \n",
       "3  The Akbash breed is predisposed to some of the...   \n",
       "\n",
       "                                                care  \\\n",
       "0  The Affenpinscher is an ideal dog for apartmen...   \n",
       "1  Afghan Hounds prefer being inside with family....   \n",
       "2  The Airedale Terrier is a working dog, and has...   \n",
       "3  As with all dogs, you should keep up with your...   \n",
       "\n",
       "                                             feeding  \\\n",
       "0  Recommended daily amount: 1/4 to 1/2 cup of hi...   \n",
       "1  Recommended daily amount: 2 to 2.5 cups of hig...   \n",
       "2  Recommended daily amount: 1.5 to 2.5 cups of h...   \n",
       "3  An ideal Akbash diet should be formulated for ...   \n",
       "\n",
       "                             coat_color_and_grooming  \\\n",
       "0  Shaggy but neat describes the Affenpinscher's ...   \n",
       "1  Properly groomed, the Afghan coat is spectacul...   \n",
       "2  The handsome coat of the Airedale Terrier has ...   \n",
       "3  Akbash coats are only white. These beautiful p...   \n",
       "\n",
       "                             children_and_other_pets  \\\n",
       "0  Affenpinschers don't like aggressive behavior ...   \n",
       "1  The Afghan's independent nature and large size...   \n",
       "2  The fun-loving Airedale makes a good family pe...   \n",
       "3  Because the Akbash is a large dog, they can ea...   \n",
       "\n",
       "                                       rescue_groups  \\\n",
       "0  Affenpinschers are sometimes bought without an...   \n",
       "1  Afghans are often purchased without any clear ...   \n",
       "2  Airedales are often purchased without any clea...   \n",
       "3  Because the Akbash is a somewhat rare breed, i...   \n",
       "\n",
       "                                 breed_organizations  \n",
       "0  Below are breed clubs, organizations, and asso...  \n",
       "1  Below are breed clubs, organizations, and asso...  \n",
       "2  Below are breed clubs, organizations, and asso...  \n",
       "3                                      Not available  \n",
       "\n",
       "[4 rows x 47 columns]"
      ]
     },
     "execution_count": 61,
     "metadata": {},
     "output_type": "execute_result"
    }
   ],
   "source": [
    "dogs_df = dogs_df.reset_index()\n",
    "dogs_df.head(4)"
   ]
  },
  {
   "cell_type": "code",
   "execution_count": 44,
   "metadata": {},
   "outputs": [],
   "source": [
    "#dogs_df = dogs_df.loc[(dogs_df.breed in top_breeds)]\n",
    "dogs_df = dogs_df.loc[dogs_df['breed'].isin(top_breeds)]"
   ]
  },
  {
   "cell_type": "markdown",
   "metadata": {},
   "source": [
    "***"
   ]
  },
  {
   "cell_type": "markdown",
   "metadata": {},
   "source": [
    "## 4: Dog for Adoption"
   ]
  },
  {
   "cell_type": "markdown",
   "metadata": {},
   "source": [
    "This contains the process I used to clean and pre-process the adoption dataset from petfinder."
   ]
  },
  {
   "cell_type": "code",
   "execution_count": 156,
   "metadata": {},
   "outputs": [],
   "source": [
    "adoption_df = pd.read_csv(\"adoption_df.csv\", index_col = 0)"
   ]
  },
  {
   "cell_type": "code",
   "execution_count": 157,
   "metadata": {},
   "outputs": [
    {
     "data": {
      "text/html": [
       "<div>\n",
       "<style scoped>\n",
       "    .dataframe tbody tr th:only-of-type {\n",
       "        vertical-align: middle;\n",
       "    }\n",
       "\n",
       "    .dataframe tbody tr th {\n",
       "        vertical-align: top;\n",
       "    }\n",
       "\n",
       "    .dataframe thead th {\n",
       "        text-align: right;\n",
       "    }\n",
       "</style>\n",
       "<table border=\"1\" class=\"dataframe\">\n",
       "  <thead>\n",
       "    <tr style=\"text-align: right;\">\n",
       "      <th></th>\n",
       "      <th>label</th>\n",
       "      <th>link</th>\n",
       "    </tr>\n",
       "  </thead>\n",
       "  <tbody>\n",
       "    <tr>\n",
       "      <td>0</td>\n",
       "      <td>['Cary in NY - So Gentle &amp; Sweet!, adoptable D...</td>\n",
       "      <td>['https://www.petfinder.com/dog/cary-in-ny-so-...</td>\n",
       "    </tr>\n",
       "    <tr>\n",
       "      <td>1</td>\n",
       "      <td>[\"Darlin', adoptable Dog, Young Female Pit Bul...</td>\n",
       "      <td>['https://www.petfinder.com/dog/darlin-3366113...</td>\n",
       "    </tr>\n",
       "    <tr>\n",
       "      <td>2</td>\n",
       "      <td>['Thea Queen, adoptable Dog, Adult Female Pit ...</td>\n",
       "      <td>['https://www.petfinder.com/dog/thea-queen-472...</td>\n",
       "    </tr>\n",
       "  </tbody>\n",
       "</table>\n",
       "</div>"
      ],
      "text/plain": [
       "                                               label  \\\n",
       "0  ['Cary in NY - So Gentle & Sweet!, adoptable D...   \n",
       "1  [\"Darlin', adoptable Dog, Young Female Pit Bul...   \n",
       "2  ['Thea Queen, adoptable Dog, Adult Female Pit ...   \n",
       "\n",
       "                                                link  \n",
       "0  ['https://www.petfinder.com/dog/cary-in-ny-so-...  \n",
       "1  ['https://www.petfinder.com/dog/darlin-3366113...  \n",
       "2  ['https://www.petfinder.com/dog/thea-queen-472...  "
      ]
     },
     "execution_count": 157,
     "metadata": {},
     "output_type": "execute_result"
    }
   ],
   "source": [
    "adoption_df.head(3)"
   ]
  },
  {
   "cell_type": "markdown",
   "metadata": {},
   "source": [
    "We need to extract key features such as name, age, sex and breed of the dogs from the main label column. The label column was the raw result from the webscraping performed on petfinder. The column is dirty and has unneccessary characters."
   ]
  },
  {
   "cell_type": "code",
   "execution_count": 158,
   "metadata": {},
   "outputs": [],
   "source": [
    "### Clean label before feature extraction\n",
    "adoption_df['label'] = adoption_df['label'].str.replace(\"[\", \"\")\n",
    "adoption_df['label'] = adoption_df['label'].str.replace(\"\\'\", \"\")\n",
    "adoption_df['label'] = adoption_df['label'].str.replace(\"\\\"\", \"\")\n",
    "adoption_df['label'] = adoption_df['label'].str.replace(\"]\", \"\")"
   ]
  },
  {
   "cell_type": "code",
   "execution_count": 159,
   "metadata": {},
   "outputs": [],
   "source": [
    "adoption_df['name'] = adoption_df['label'].str.split(',').str[0]\n",
    "adoption_df['sex_age_breed'] = adoption_df['label'].str.split(',').str[2]"
   ]
  },
  {
   "cell_type": "markdown",
   "metadata": {},
   "source": [
    "### Gender"
   ]
  },
  {
   "cell_type": "code",
   "execution_count": 161,
   "metadata": {},
   "outputs": [],
   "source": [
    "### Extract dog gender\n",
    "adoption_df['sex'] = adoption_df['sex_age_breed'].str.split(' ').str[2]"
   ]
  },
  {
   "cell_type": "code",
   "execution_count": 162,
   "metadata": {},
   "outputs": [],
   "source": [
    "### Remove dirty columns\n",
    "adoption_df = adoption_df.loc[(adoption_df['sex'] == 'Male') | (adoption_df['sex'] == 'Female')]"
   ]
  },
  {
   "cell_type": "code",
   "execution_count": 163,
   "metadata": {},
   "outputs": [
    {
     "data": {
      "text/plain": [
       "Male      33747\n",
       "Female    29545\n",
       "Name: sex, dtype: int64"
      ]
     },
     "execution_count": 163,
     "metadata": {},
     "output_type": "execute_result"
    }
   ],
   "source": [
    "### Validate gender distribution\n",
    "adoption_df['sex'].value_counts()"
   ]
  },
  {
   "cell_type": "markdown",
   "metadata": {},
   "source": [
    "### Age Range"
   ]
  },
  {
   "cell_type": "code",
   "execution_count": 164,
   "metadata": {},
   "outputs": [],
   "source": [
    "### Extract dog age range\n",
    "adoption_df['age'] = adoption_df['sex_age_breed'].str.split(' ').str[1]"
   ]
  },
  {
   "cell_type": "code",
   "execution_count": 165,
   "metadata": {},
   "outputs": [
    {
     "data": {
      "text/plain": [
       "Adult     35899\n",
       "Young     15829\n",
       "Senior     6878\n",
       "Puppy      4686\n",
       "Name: age, dtype: int64"
      ]
     },
     "execution_count": 165,
     "metadata": {},
     "output_type": "execute_result"
    }
   ],
   "source": [
    "### Validate age distribution\n",
    "adoption_df['age'].value_counts()"
   ]
  },
  {
   "cell_type": "markdown",
   "metadata": {},
   "source": [
    "### Breed"
   ]
  },
  {
   "cell_type": "code",
   "execution_count": 166,
   "metadata": {},
   "outputs": [],
   "source": [
    "### Extract dog breed\n",
    "adoption_df['breed'] = adoption_df['sex_age_breed'].str.split(' ').str[3:]\n",
    "adoption_df['breed'] = adoption_df['breed'].str.join(',')\n",
    "adoption_df['breed'] = adoption_df['breed'].str.replace(',',' ')"
   ]
  },
  {
   "cell_type": "code",
   "execution_count": 169,
   "metadata": {},
   "outputs": [],
   "source": [
    "### Remove dirty columns\n",
    "adoption_df.drop('label', axis=1, inplace=True)\n",
    "adoption_df.drop('sex_age_breed', axis=1, inplace=True)"
   ]
  },
  {
   "cell_type": "markdown",
   "metadata": {},
   "source": [
    "### Adoption Links"
   ]
  },
  {
   "cell_type": "code",
   "execution_count": 170,
   "metadata": {},
   "outputs": [
    {
     "data": {
      "text/html": [
       "<div>\n",
       "<style scoped>\n",
       "    .dataframe tbody tr th:only-of-type {\n",
       "        vertical-align: middle;\n",
       "    }\n",
       "\n",
       "    .dataframe tbody tr th {\n",
       "        vertical-align: top;\n",
       "    }\n",
       "\n",
       "    .dataframe thead th {\n",
       "        text-align: right;\n",
       "    }\n",
       "</style>\n",
       "<table border=\"1\" class=\"dataframe\">\n",
       "  <thead>\n",
       "    <tr style=\"text-align: right;\">\n",
       "      <th></th>\n",
       "      <th>link</th>\n",
       "      <th>name</th>\n",
       "      <th>sex</th>\n",
       "      <th>age</th>\n",
       "      <th>breed</th>\n",
       "    </tr>\n",
       "  </thead>\n",
       "  <tbody>\n",
       "    <tr>\n",
       "      <td>0</td>\n",
       "      <td>https://www.petfinder.com/dog/cary-in-ny-so-ge...</td>\n",
       "      <td>Cary in NY - So Gentle &amp; Sweet!</td>\n",
       "      <td>Female</td>\n",
       "      <td>Young</td>\n",
       "      <td>Great Pyrenees</td>\n",
       "    </tr>\n",
       "    <tr>\n",
       "      <td>1</td>\n",
       "      <td>https://www.petfinder.com/dog/darlin-33661138/...</td>\n",
       "      <td>Darlin</td>\n",
       "      <td>Female</td>\n",
       "      <td>Young</td>\n",
       "      <td>Pit Bull Terrier</td>\n",
       "    </tr>\n",
       "    <tr>\n",
       "      <td>2</td>\n",
       "      <td>https://www.petfinder.com/dog/thea-queen-47256...</td>\n",
       "      <td>Thea Queen</td>\n",
       "      <td>Female</td>\n",
       "      <td>Adult</td>\n",
       "      <td>Pit Bull Terrier Mix</td>\n",
       "    </tr>\n",
       "    <tr>\n",
       "      <td>3</td>\n",
       "      <td>https://www.petfinder.com/dog/chloe-47211945/n...</td>\n",
       "      <td>Chloe</td>\n",
       "      <td>Female</td>\n",
       "      <td>Senior</td>\n",
       "      <td>Pit Bull Terrier Mix</td>\n",
       "    </tr>\n",
       "    <tr>\n",
       "      <td>4</td>\n",
       "      <td>https://www.petfinder.com/dog/sheba-47211940/n...</td>\n",
       "      <td>Sheba</td>\n",
       "      <td>Female</td>\n",
       "      <td>Adult</td>\n",
       "      <td>Pit Bull Terrier Mix</td>\n",
       "    </tr>\n",
       "    <tr>\n",
       "      <td>...</td>\n",
       "      <td>...</td>\n",
       "      <td>...</td>\n",
       "      <td>...</td>\n",
       "      <td>...</td>\n",
       "      <td>...</td>\n",
       "    </tr>\n",
       "    <tr>\n",
       "      <td>63586</td>\n",
       "      <td>https://www.petfinder.com/dog/pooches-45818126...</td>\n",
       "      <td>Pooches</td>\n",
       "      <td>Female</td>\n",
       "      <td>Adult</td>\n",
       "      <td>Terrier</td>\n",
       "    </tr>\n",
       "    <tr>\n",
       "      <td>63587</td>\n",
       "      <td>https://www.petfinder.com/dog/diggity-45818191...</td>\n",
       "      <td>Diggity</td>\n",
       "      <td>Male</td>\n",
       "      <td>Adult</td>\n",
       "      <td>Dachshund Mix</td>\n",
       "    </tr>\n",
       "    <tr>\n",
       "      <td>63588</td>\n",
       "      <td>https://www.petfinder.com/dog/amaya-45818077/g...</td>\n",
       "      <td>Amaya</td>\n",
       "      <td>Female</td>\n",
       "      <td>Young</td>\n",
       "      <td>Miniature Pinscher</td>\n",
       "    </tr>\n",
       "    <tr>\n",
       "      <td>63589</td>\n",
       "      <td>https://www.petfinder.com/dog/libby-45818067/g...</td>\n",
       "      <td>Libby</td>\n",
       "      <td>Female</td>\n",
       "      <td>Adult</td>\n",
       "      <td>Pit Bull Terrier</td>\n",
       "    </tr>\n",
       "    <tr>\n",
       "      <td>63590</td>\n",
       "      <td>https://www.petfinder.com/dog/dikiki-45818070/...</td>\n",
       "      <td>Dikiki</td>\n",
       "      <td>Male</td>\n",
       "      <td>Adult</td>\n",
       "      <td>Affenpinscher</td>\n",
       "    </tr>\n",
       "  </tbody>\n",
       "</table>\n",
       "<p>63292 rows × 5 columns</p>\n",
       "</div>"
      ],
      "text/plain": [
       "                                                    link  \\\n",
       "0      https://www.petfinder.com/dog/cary-in-ny-so-ge...   \n",
       "1      https://www.petfinder.com/dog/darlin-33661138/...   \n",
       "2      https://www.petfinder.com/dog/thea-queen-47256...   \n",
       "3      https://www.petfinder.com/dog/chloe-47211945/n...   \n",
       "4      https://www.petfinder.com/dog/sheba-47211940/n...   \n",
       "...                                                  ...   \n",
       "63586  https://www.petfinder.com/dog/pooches-45818126...   \n",
       "63587  https://www.petfinder.com/dog/diggity-45818191...   \n",
       "63588  https://www.petfinder.com/dog/amaya-45818077/g...   \n",
       "63589  https://www.petfinder.com/dog/libby-45818067/g...   \n",
       "63590  https://www.petfinder.com/dog/dikiki-45818070/...   \n",
       "\n",
       "                                  name     sex     age                 breed  \n",
       "0      Cary in NY - So Gentle & Sweet!  Female   Young        Great Pyrenees  \n",
       "1                               Darlin  Female   Young      Pit Bull Terrier  \n",
       "2                           Thea Queen  Female   Adult  Pit Bull Terrier Mix  \n",
       "3                                Chloe  Female  Senior  Pit Bull Terrier Mix  \n",
       "4                                Sheba  Female   Adult  Pit Bull Terrier Mix  \n",
       "...                                ...     ...     ...                   ...  \n",
       "63586                          Pooches  Female   Adult               Terrier  \n",
       "63587                          Diggity    Male   Adult         Dachshund Mix  \n",
       "63588                            Amaya  Female   Young    Miniature Pinscher  \n",
       "63589                            Libby  Female   Adult      Pit Bull Terrier  \n",
       "63590                           Dikiki    Male   Adult         Affenpinscher  \n",
       "\n",
       "[63292 rows x 5 columns]"
      ]
     },
     "execution_count": 170,
     "metadata": {},
     "output_type": "execute_result"
    }
   ],
   "source": [
    "### Clean link\n",
    "adoption_df['link'] = adoption_df['link'].str.replace(\"[\", \"\")\n",
    "adoption_df['link'] = adoption_df['link'].str.replace(\"\\'\", \"\")\n",
    "adoption_df['link'] = adoption_df['link'].str.replace(\"]\", \"\")\n",
    "adoption_df"
   ]
  },
  {
   "cell_type": "markdown",
   "metadata": {},
   "source": [
    "### Missing Values"
   ]
  },
  {
   "cell_type": "markdown",
   "metadata": {},
   "source": [
    "Verify if there are other rows that have missing values for proper handling later on."
   ]
  },
  {
   "cell_type": "code",
   "execution_count": 172,
   "metadata": {},
   "outputs": [
    {
     "data": {
      "image/png": "[encoded data removed]",
      "text/plain": [
       "<Figure size 1440x432 with 2 Axes>"
      ]
     },
     "metadata": {},
     "output_type": "display_data"
    }
   ],
   "source": [
    "mno.matrix(adoption_df, figsize = (20, 6))\n",
    "plt.show()"
   ]
  },
  {
   "cell_type": "markdown",
   "metadata": {},
   "source": [
    "### Breed Matching"
   ]
  },
  {
   "cell_type": "markdown",
   "metadata": {},
   "source": [
    "After previous cleaning done to the other datasets, we now need to match the breeds listed in the adoption dataset to the others."
   ]
  },
  {
   "cell_type": "code",
   "execution_count": 6,
   "metadata": {},
   "outputs": [],
   "source": [
    "adoption_df = pd.read_csv('adoption_dogs.csv', index_col=0)"
   ]
  },
  {
   "cell_type": "markdown",
   "metadata": {},
   "source": [
    "The cell below were ran manually for each breed to ensure matching names."
   ]
  },
  {
   "cell_type": "code",
   "execution_count": 48,
   "metadata": {},
   "outputs": [],
   "source": [
    "adoption_df['breed'] = adoption_df['breed'].str.lower()"
   ]
  },
  {
   "cell_type": "markdown",
   "metadata": {},
   "source": [
    "### Data Export"
   ]
  },
  {
   "cell_type": "code",
   "execution_count": 49,
   "metadata": {},
   "outputs": [],
   "source": [
    "adoption_df.to_csv('adoption_dogs.csv')"
   ]
  }
 ],
 "metadata": {
  "kernelspec": {
   "display_name": "Python 3",
   "language": "python",
   "name": "python3"
  },
  "language_info": {
   "codemirror_mode": {
    "name": "ipython",
    "version": 3
   },
   "file_extension": ".py",
   "mimetype": "text/x-python",
   "name": "python",
   "nbconvert_exporter": "python",
   "pygments_lexer": "ipython3",
   "version": "3.7.4"
  },
  "toc": {
   "base_numbering": 1,
   "nav_menu": {},
   "number_sections": true,
   "sideBar": true,
   "skip_h1_title": false,
   "title_cell": "Table of Contents",
   "title_sidebar": "Contents",
   "toc_cell": false,
   "toc_position": {},
   "toc_section_display": true,
   "toc_window_display": false
  }
 },
 "nbformat": 4,
 "nbformat_minor": 2
}
